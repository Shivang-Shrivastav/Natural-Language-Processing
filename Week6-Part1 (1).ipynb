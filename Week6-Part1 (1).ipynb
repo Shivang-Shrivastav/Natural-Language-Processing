{
 "cells": [
  {
   "cell_type": "code",
   "execution_count": 70,
   "metadata": {
    "executionInfo": {
     "elapsed": 2356,
     "status": "ok",
     "timestamp": 1620158827540,
     "user": {
      "displayName": "Shivang Shrivastav",
      "photoUrl": "https://lh3.googleusercontent.com/a-/AOh14Gg9xISSyRzd-eFKbT4A88T2GEKu4pGdCDRdydWc0g=s64",
      "userId": "00987918723260281132"
     },
     "user_tz": -330
    },
    "id": "rFm4mCfebGv8"
   },
   "outputs": [],
   "source": [
    "import pandas as pd\n",
    "import numpy as np"
   ]
  },
  {
   "cell_type": "code",
   "execution_count": 71,
   "metadata": {
    "executionInfo": {
     "elapsed": 6469,
     "status": "ok",
     "timestamp": 1620158831665,
     "user": {
      "displayName": "Shivang Shrivastav",
      "photoUrl": "https://lh3.googleusercontent.com/a-/AOh14Gg9xISSyRzd-eFKbT4A88T2GEKu4pGdCDRdydWc0g=s64",
      "userId": "00987918723260281132"
     },
     "user_tz": -330
    },
    "id": "KXLWkb-rbbKu"
   },
   "outputs": [],
   "source": [
    "# from google.colab import drive\n",
    "# drive.mount('/content/drive/')"
   ]
  },
  {
   "cell_type": "markdown",
   "metadata": {
    "id": "kWylMNjzb3ZX"
   },
   "source": [
    "<span style=\"color:green;font-weight:bold; font-size:2em\">1. Import and analyse the data set.<span>"
   ]
  },
  {
   "cell_type": "code",
   "execution_count": 72,
   "metadata": {
    "colab": {
     "base_uri": "https://localhost:8080/"
    },
    "executionInfo": {
     "elapsed": 10139,
     "status": "ok",
     "timestamp": 1620158835344,
     "user": {
      "displayName": "Shivang Shrivastav",
      "photoUrl": "https://lh3.googleusercontent.com/a-/AOh14Gg9xISSyRzd-eFKbT4A88T2GEKu4pGdCDRdydWc0g=s64",
      "userId": "00987918723260281132"
     },
     "user_tz": -330
    },
    "id": "PRy2cilcbGwD",
    "outputId": "df72fc4d-f210-4789-89d0-f6cd4b8d8803"
   },
   "outputs": [],
   "source": [
    "from keras.datasets import imdb\n",
    "(X_train,Y_train),(X_test,Y_test) = imdb.load_data(num_words=10000)"
   ]
  },
  {
   "cell_type": "markdown",
   "metadata": {},
   "source": [
    "<span style=\"color:green;font-weight:bold; font-size:2em\">3. Perform following data analysis:<span>\n"
   ]
  },
  {
   "cell_type": "markdown",
   "metadata": {},
   "source": [
    "<span style=\"color:red;font-weight:bold; font-size:1em\"> • Print shape of features and labels\n",
    "<span style=\"color:red;font-weight:bold; font-size:1em\"> • Print value of any one feature and it's label<span>"
   ]
  },
  {
   "cell_type": "code",
   "execution_count": 73,
   "metadata": {
    "colab": {
     "base_uri": "https://localhost:8080/"
    },
    "executionInfo": {
     "elapsed": 10132,
     "status": "ok",
     "timestamp": 1620158835345,
     "user": {
      "displayName": "Shivang Shrivastav",
      "photoUrl": "https://lh3.googleusercontent.com/a-/AOh14Gg9xISSyRzd-eFKbT4A88T2GEKu4pGdCDRdydWc0g=s64",
      "userId": "00987918723260281132"
     },
     "user_tz": -330
    },
    "id": "oxS6dqjhbGwE",
    "outputId": "977a70fb-7782-48b2-9cb4-3d1234e981b1"
   },
   "outputs": [
    {
     "name": "stdout",
     "output_type": "stream",
     "text": [
      "(25000,)\n",
      "(25000,)\n",
      "(25000,)\n",
      "(25000,)\n"
     ]
    }
   ],
   "source": [
    "print(X_train.shape)\n",
    "print(X_test.shape)\n",
    "print(Y_train.shape)\n",
    "print(Y_test.shape)"
   ]
  },
  {
   "cell_type": "code",
   "execution_count": 74,
   "metadata": {
    "colab": {
     "base_uri": "https://localhost:8080/"
    },
    "executionInfo": {
     "elapsed": 10124,
     "status": "ok",
     "timestamp": 1620158835346,
     "user": {
      "displayName": "Shivang Shrivastav",
      "photoUrl": "https://lh3.googleusercontent.com/a-/AOh14Gg9xISSyRzd-eFKbT4A88T2GEKu4pGdCDRdydWc0g=s64",
      "userId": "00987918723260281132"
     },
     "user_tz": -330
    },
    "id": "SGe1e3kXdPFG",
    "outputId": "286e87aa-0f87-46c6-d2ad-e3c6fc430fbf"
   },
   "outputs": [
    {
     "data": {
      "text/plain": [
       "numpy.ndarray"
      ]
     },
     "execution_count": 74,
     "metadata": {},
     "output_type": "execute_result"
    }
   ],
   "source": [
    "type(X_train)"
   ]
  },
  {
   "cell_type": "code",
   "execution_count": 75,
   "metadata": {
    "executionInfo": {
     "elapsed": 10117,
     "status": "ok",
     "timestamp": 1620158835347,
     "user": {
      "displayName": "Shivang Shrivastav",
      "photoUrl": "https://lh3.googleusercontent.com/a-/AOh14Gg9xISSyRzd-eFKbT4A88T2GEKu4pGdCDRdydWc0g=s64",
      "userId": "00987918723260281132"
     },
     "user_tz": -330
    },
    "id": "r9tGrof2adXs"
   },
   "outputs": [],
   "source": [
    "X_train = pd.DataFrame(X_train,index=None,columns=['Sentence'])\n",
    "X_test = pd.DataFrame(X_test,columns=['Sentence'])\n",
    "Y_train = pd.DataFrame(Y_train,columns=['Sentiment'])\n",
    "Y_test = pd.DataFrame(Y_test,columns=['Sentiment'])"
   ]
  },
  {
   "cell_type": "code",
   "execution_count": 76,
   "metadata": {
    "executionInfo": {
     "elapsed": 10112,
     "status": "ok",
     "timestamp": 1620158835348,
     "user": {
      "displayName": "Shivang Shrivastav",
      "photoUrl": "https://lh3.googleusercontent.com/a-/AOh14Gg9xISSyRzd-eFKbT4A88T2GEKu4pGdCDRdydWc0g=s64",
      "userId": "00987918723260281132"
     },
     "user_tz": -330
    },
    "id": "3IwXB_CjZvz1"
   },
   "outputs": [],
   "source": [
    "X = pd.concat([X_train,X_test],axis=0,ignore_index=True)\n",
    "Y = pd.concat([Y_train,Y_test],axis=0,ignore_index=True)"
   ]
  },
  {
   "cell_type": "code",
   "execution_count": 77,
   "metadata": {
    "colab": {
     "base_uri": "https://localhost:8080/"
    },
    "executionInfo": {
     "elapsed": 10105,
     "status": "ok",
     "timestamp": 1620158835349,
     "user": {
      "displayName": "Shivang Shrivastav",
      "photoUrl": "https://lh3.googleusercontent.com/a-/AOh14Gg9xISSyRzd-eFKbT4A88T2GEKu4pGdCDRdydWc0g=s64",
      "userId": "00987918723260281132"
     },
     "user_tz": -330
    },
    "id": "yEzZ1a5WaDIT",
    "outputId": "ed007ae7-41ef-45a9-8333-404e21531d89"
   },
   "outputs": [
    {
     "name": "stdout",
     "output_type": "stream",
     "text": [
      "(50000, 1)\n",
      "(50000, 1)\n"
     ]
    }
   ],
   "source": [
    "print(X.shape)\n",
    "print(Y.shape)"
   ]
  },
  {
   "cell_type": "code",
   "execution_count": 78,
   "metadata": {
    "colab": {
     "base_uri": "https://localhost:8080/",
     "height": 203
    },
    "executionInfo": {
     "elapsed": 10096,
     "status": "ok",
     "timestamp": 1620158835349,
     "user": {
      "displayName": "Shivang Shrivastav",
      "photoUrl": "https://lh3.googleusercontent.com/a-/AOh14Gg9xISSyRzd-eFKbT4A88T2GEKu4pGdCDRdydWc0g=s64",
      "userId": "00987918723260281132"
     },
     "user_tz": -330
    },
    "id": "vIpmC7_0cuYm",
    "outputId": "6aaacb12-4287-408d-ec6b-2566039a4345"
   },
   "outputs": [
    {
     "data": {
      "text/html": [
       "<div>\n",
       "<style scoped>\n",
       "    .dataframe tbody tr th:only-of-type {\n",
       "        vertical-align: middle;\n",
       "    }\n",
       "\n",
       "    .dataframe tbody tr th {\n",
       "        vertical-align: top;\n",
       "    }\n",
       "\n",
       "    .dataframe thead th {\n",
       "        text-align: right;\n",
       "    }\n",
       "</style>\n",
       "<table border=\"1\" class=\"dataframe\">\n",
       "  <thead>\n",
       "    <tr style=\"text-align: right;\">\n",
       "      <th></th>\n",
       "      <th>Sentence</th>\n",
       "    </tr>\n",
       "  </thead>\n",
       "  <tbody>\n",
       "    <tr>\n",
       "      <th>0</th>\n",
       "      <td>[1, 14, 22, 16, 43, 530, 973, 1622, 1385, 65, ...</td>\n",
       "    </tr>\n",
       "    <tr>\n",
       "      <th>1</th>\n",
       "      <td>[1, 194, 1153, 194, 8255, 78, 228, 5, 6, 1463,...</td>\n",
       "    </tr>\n",
       "    <tr>\n",
       "      <th>2</th>\n",
       "      <td>[1, 14, 47, 8, 30, 31, 7, 4, 249, 108, 7, 4, 5...</td>\n",
       "    </tr>\n",
       "    <tr>\n",
       "      <th>3</th>\n",
       "      <td>[1, 4, 2, 2, 33, 2804, 4, 2040, 432, 111, 153,...</td>\n",
       "    </tr>\n",
       "    <tr>\n",
       "      <th>4</th>\n",
       "      <td>[1, 249, 1323, 7, 61, 113, 10, 10, 13, 1637, 1...</td>\n",
       "    </tr>\n",
       "  </tbody>\n",
       "</table>\n",
       "</div>"
      ],
      "text/plain": [
       "                                            Sentence\n",
       "0  [1, 14, 22, 16, 43, 530, 973, 1622, 1385, 65, ...\n",
       "1  [1, 194, 1153, 194, 8255, 78, 228, 5, 6, 1463,...\n",
       "2  [1, 14, 47, 8, 30, 31, 7, 4, 249, 108, 7, 4, 5...\n",
       "3  [1, 4, 2, 2, 33, 2804, 4, 2040, 432, 111, 153,...\n",
       "4  [1, 249, 1323, 7, 61, 113, 10, 10, 13, 1637, 1..."
      ]
     },
     "execution_count": 78,
     "metadata": {},
     "output_type": "execute_result"
    }
   ],
   "source": [
    "X.head(5)"
   ]
  },
  {
   "cell_type": "code",
   "execution_count": 79,
   "metadata": {
    "colab": {
     "base_uri": "https://localhost:8080/",
     "height": 203
    },
    "executionInfo": {
     "elapsed": 10085,
     "status": "ok",
     "timestamp": 1620158835350,
     "user": {
      "displayName": "Shivang Shrivastav",
      "photoUrl": "https://lh3.googleusercontent.com/a-/AOh14Gg9xISSyRzd-eFKbT4A88T2GEKu4pGdCDRdydWc0g=s64",
      "userId": "00987918723260281132"
     },
     "user_tz": -330
    },
    "id": "c_v7JTnLbGwF",
    "outputId": "b313496c-f90c-401d-9f3f-b307dcbf9faa"
   },
   "outputs": [
    {
     "data": {
      "text/html": [
       "<div>\n",
       "<style scoped>\n",
       "    .dataframe tbody tr th:only-of-type {\n",
       "        vertical-align: middle;\n",
       "    }\n",
       "\n",
       "    .dataframe tbody tr th {\n",
       "        vertical-align: top;\n",
       "    }\n",
       "\n",
       "    .dataframe thead th {\n",
       "        text-align: right;\n",
       "    }\n",
       "</style>\n",
       "<table border=\"1\" class=\"dataframe\">\n",
       "  <thead>\n",
       "    <tr style=\"text-align: right;\">\n",
       "      <th></th>\n",
       "      <th>Sentiment</th>\n",
       "    </tr>\n",
       "  </thead>\n",
       "  <tbody>\n",
       "    <tr>\n",
       "      <th>0</th>\n",
       "      <td>1</td>\n",
       "    </tr>\n",
       "    <tr>\n",
       "      <th>1</th>\n",
       "      <td>0</td>\n",
       "    </tr>\n",
       "    <tr>\n",
       "      <th>2</th>\n",
       "      <td>0</td>\n",
       "    </tr>\n",
       "    <tr>\n",
       "      <th>3</th>\n",
       "      <td>1</td>\n",
       "    </tr>\n",
       "    <tr>\n",
       "      <th>4</th>\n",
       "      <td>0</td>\n",
       "    </tr>\n",
       "  </tbody>\n",
       "</table>\n",
       "</div>"
      ],
      "text/plain": [
       "   Sentiment\n",
       "0          1\n",
       "1          0\n",
       "2          0\n",
       "3          1\n",
       "4          0"
      ]
     },
     "execution_count": 79,
     "metadata": {},
     "output_type": "execute_result"
    }
   ],
   "source": [
    "Y.head(5)"
   ]
  },
  {
   "cell_type": "code",
   "execution_count": 80,
   "metadata": {
    "colab": {
     "base_uri": "https://localhost:8080/"
    },
    "executionInfo": {
     "elapsed": 10074,
     "status": "ok",
     "timestamp": 1620158835350,
     "user": {
      "displayName": "Shivang Shrivastav",
      "photoUrl": "https://lh3.googleusercontent.com/a-/AOh14Gg9xISSyRzd-eFKbT4A88T2GEKu4pGdCDRdydWc0g=s64",
      "userId": "00987918723260281132"
     },
     "user_tz": -330
    },
    "id": "ynkmXiMX6OXk",
    "outputId": "7dc86845-f74d-447c-9204-a9d4f97c893f"
   },
   "outputs": [
    {
     "data": {
      "text/plain": [
       "0        1\n",
       "1        0\n",
       "2        0\n",
       "3        1\n",
       "4        0\n",
       "        ..\n",
       "49995    1\n",
       "49996    1\n",
       "49997    0\n",
       "49998    0\n",
       "49999    0\n",
       "Name: Sentiment, Length: 50000, dtype: int64"
      ]
     },
     "execution_count": 80,
     "metadata": {},
     "output_type": "execute_result"
    }
   ],
   "source": [
    "Y['Sentiment']"
   ]
  },
  {
   "cell_type": "code",
   "execution_count": 81,
   "metadata": {},
   "outputs": [
    {
     "data": {
      "text/plain": [
       "array([   1,   43,  188,   46,    5,  566,  264,   51,    6,  530,  664,\n",
       "         14,    9, 1713,   81,   25, 1135,   46,    7,    6,   20,  750,\n",
       "         11,  141, 4299,    5,    2, 4441,  102,   28,  413,   38,  120,\n",
       "       5533,   15,    4, 3974,    7, 5369,  142,  371,  318,    5,  955,\n",
       "       1713,  571,    2,    2,  122,   14,    8,   72,   54,   12,   86,\n",
       "        385,   46,    5,   14,   20,    9,  399,    8,   72,  150,   13,\n",
       "        161,  124,    6,  155,   44,   14,  159,  170,   83,   12,    5,\n",
       "         51,    6,  866,   48,   25,  842,    4, 1120,   25,  238,   79,\n",
       "          4,  547,   15,   14,    9,   31,    7,  148,    2,  102,   44,\n",
       "         35,  480, 3823, 2380,   19,  120,    4,  350,  228,    5,  269,\n",
       "          8,   28,  178, 1314, 2347,    7,   51,    6,   87,   65,   12,\n",
       "          9,  979,   21,   95,   24, 3186,  178,   11,    2,   14,    9,\n",
       "         24,   15,   20,    4,   84,  376,    4,   65,   14,  127,  141,\n",
       "          6,   52,  292,    7, 4751,  175,  561,    7,   68, 3866,  137,\n",
       "         75, 2541,   68,  182,    5,  235,  175,  333,   19,   98,   50,\n",
       "          9,   38,   76,  724,    4, 6750,   15,  166,  285,   36,  140,\n",
       "        143,   38,   76,   53, 3094, 1301,    4, 6991,   16,   82,    6,\n",
       "         87, 3578,   44, 2527, 7612,    5,  800,    4, 3033,   11,   35,\n",
       "       1728,   96,   21,   14,   22,    9,   76,   53,    7,    6,  406,\n",
       "         65,   13,   43,  219,   12,  639,   21,   13,   80,  140,    5,\n",
       "        135,   15,   14,    9,   31,    7,    4,  118, 3672,   13,   28,\n",
       "        126,  110])"
      ]
     },
     "execution_count": 81,
     "metadata": {},
     "output_type": "execute_result"
    }
   ],
   "source": [
    "np.array(X['Sentence'][8])"
   ]
  },
  {
   "cell_type": "code",
   "execution_count": 82,
   "metadata": {},
   "outputs": [
    {
     "data": {
      "text/plain": [
       "1"
      ]
     },
     "execution_count": 82,
     "metadata": {},
     "output_type": "execute_result"
    }
   ],
   "source": [
    "Y['Sentiment'][8]"
   ]
  },
  {
   "cell_type": "markdown",
   "metadata": {},
   "source": [
    "<span style=\"color:green;font-weight:bold; font-size:2em\">1. Import and analyse the data set.<span>"
   ]
  },
  {
   "cell_type": "code",
   "execution_count": 83,
   "metadata": {},
   "outputs": [
    {
     "data": {
      "text/plain": [
       "{1: 25000, 0: 25000}"
      ]
     },
     "execution_count": 83,
     "metadata": {},
     "output_type": "execute_result"
    }
   ],
   "source": [
    "count = dict()\n",
    "\n",
    "for x in Y['Sentiment']:\n",
    "    if x in count:\n",
    "        count[x] +=1\n",
    "    else:\n",
    "        count[x] = 1\n",
    "count"
   ]
  },
  {
   "cell_type": "code",
   "execution_count": 84,
   "metadata": {},
   "outputs": [
    {
     "name": "stdout",
     "output_type": "stream",
     "text": [
      "The number of Positive Reviews are:     25000\n",
      "The number of Negative Reviews are:     25000\n",
      "Total number of Reviews are:            50000\n"
     ]
    }
   ],
   "source": [
    "print(f\"The number of Positive Reviews are:     {count[1]}\")\n",
    "print(f\"The number of Negative Reviews are:     {count[0]}\")\n",
    "print(f\"Total number of Reviews are:            {len(Y['Sentiment'])}\")"
   ]
  },
  {
   "cell_type": "code",
   "execution_count": 85,
   "metadata": {},
   "outputs": [
    {
     "data": {
      "text/plain": [
       "[218, 189, 141, 550, 147]"
      ]
     },
     "execution_count": 85,
     "metadata": {},
     "output_type": "execute_result"
    }
   ],
   "source": [
    "length = []\n",
    "for x in X['Sentence']:\n",
    "    length.append(len(x))\n",
    "    \n",
    "length[:5]"
   ]
  },
  {
   "cell_type": "code",
   "execution_count": 86,
   "metadata": {},
   "outputs": [
    {
     "data": {
      "text/plain": [
       "2494"
      ]
     },
     "execution_count": 86,
     "metadata": {},
     "output_type": "execute_result"
    }
   ],
   "source": [
    "max(length)"
   ]
  },
  {
   "cell_type": "code",
   "execution_count": 87,
   "metadata": {
    "colab": {
     "base_uri": "https://localhost:8080/"
    },
    "executionInfo": {
     "elapsed": 10065,
     "status": "ok",
     "timestamp": 1620158835351,
     "user": {
      "displayName": "Shivang Shrivastav",
      "photoUrl": "https://lh3.googleusercontent.com/a-/AOh14Gg9xISSyRzd-eFKbT4A88T2GEKu4pGdCDRdydWc0g=s64",
      "userId": "00987918723260281132"
     },
     "user_tz": -330
    },
    "id": "2XkDLmB46BAV",
    "outputId": "28e4e7cf-63c0-4faa-f611-de6fa3d37d93"
   },
   "outputs": [],
   "source": [
    "Y = list(Y['Sentiment'])\n"
   ]
  },
  {
   "cell_type": "markdown",
   "metadata": {},
   "source": [
    "<span style=\"color:green;font-weight:bold; font-size:2em\">4. Decode the feature value to get original sentence<span>"
   ]
  },
  {
   "cell_type": "code",
   "execution_count": 88,
   "metadata": {
    "executionInfo": {
     "elapsed": 10056,
     "status": "ok",
     "timestamp": 1620158835351,
     "user": {
      "displayName": "Shivang Shrivastav",
      "photoUrl": "https://lh3.googleusercontent.com/a-/AOh14Gg9xISSyRzd-eFKbT4A88T2GEKu4pGdCDRdydWc0g=s64",
      "userId": "00987918723260281132"
     },
     "user_tz": -330
    },
    "id": "v51R1QCGbGwG"
   },
   "outputs": [],
   "source": [
    "word_index = imdb.get_word_index()"
   ]
  },
  {
   "cell_type": "code",
   "execution_count": 89,
   "metadata": {
    "colab": {
     "base_uri": "https://localhost:8080/"
    },
    "executionInfo": {
     "elapsed": 10049,
     "status": "ok",
     "timestamp": 1620158835352,
     "user": {
      "displayName": "Shivang Shrivastav",
      "photoUrl": "https://lh3.googleusercontent.com/a-/AOh14Gg9xISSyRzd-eFKbT4A88T2GEKu4pGdCDRdydWc0g=s64",
      "userId": "00987918723260281132"
     },
     "user_tz": -330
    },
    "id": "4SLRF6KIbGwG",
    "outputId": "0164051e-10ca-488c-c68e-d12d6deff630"
   },
   "outputs": [
    {
     "name": "stdout",
     "output_type": "stream",
     "text": [
      "4822\n"
     ]
    }
   ],
   "source": [
    "print(word_index['hello'])"
   ]
  },
  {
   "cell_type": "code",
   "execution_count": 90,
   "metadata": {
    "executionInfo": {
     "elapsed": 10040,
     "status": "ok",
     "timestamp": 1620158835352,
     "user": {
      "displayName": "Shivang Shrivastav",
      "photoUrl": "https://lh3.googleusercontent.com/a-/AOh14Gg9xISSyRzd-eFKbT4A88T2GEKu4pGdCDRdydWc0g=s64",
      "userId": "00987918723260281132"
     },
     "user_tz": -330
    },
    "id": "bPVunL0RbGwH"
   },
   "outputs": [],
   "source": [
    "vocab = dict([(value,key) for key,value in word_index.items()])"
   ]
  },
  {
   "cell_type": "code",
   "execution_count": 91,
   "metadata": {
    "executionInfo": {
     "elapsed": 10034,
     "status": "ok",
     "timestamp": 1620158835352,
     "user": {
      "displayName": "Shivang Shrivastav",
      "photoUrl": "https://lh3.googleusercontent.com/a-/AOh14Gg9xISSyRzd-eFKbT4A88T2GEKu4pGdCDRdydWc0g=s64",
      "userId": "00987918723260281132"
     },
     "user_tz": -330
    },
    "id": "L6fz3VTVbGwH"
   },
   "outputs": [],
   "source": [
    "def tensor_to_word(sequence):\n",
    "    sentence=[]\n",
    "    text = ''    \n",
    "    for word in sequence:\n",
    "        text += vocab[word]\n",
    "        text += ' '\n",
    "    sentence.append(text)\n",
    "    return sentence"
   ]
  },
  {
   "cell_type": "code",
   "execution_count": 92,
   "metadata": {
    "colab": {
     "base_uri": "https://localhost:8080/"
    },
    "executionInfo": {
     "elapsed": 10028,
     "status": "ok",
     "timestamp": 1620158835353,
     "user": {
      "displayName": "Shivang Shrivastav",
      "photoUrl": "https://lh3.googleusercontent.com/a-/AOh14Gg9xISSyRzd-eFKbT4A88T2GEKu4pGdCDRdydWc0g=s64",
      "userId": "00987918723260281132"
     },
     "user_tz": -330
    },
    "id": "6J2Wwf49bGwI",
    "outputId": "217cb1ab-2622-464b-a869-adae30ea1745"
   },
   "outputs": [],
   "source": [
    "translated_sentence = []\n",
    "for x in X['Sentence']:\n",
    "     sentence = tensor_to_word(x)\n",
    "     translated_sentence.append(sentence)\n",
    "     "
   ]
  },
  {
   "cell_type": "code",
   "execution_count": 93,
   "metadata": {},
   "outputs": [
    {
     "data": {
      "text/plain": [
       "[\"the out can't some to hit looking when is themselves novel as it theatre people have former some br is on dull this should rick to and thru characters one lost her show jews for of brosnan br realised back video excellent to plenty theatre involved and and off as in we no that how moments some to as on it early in we years was nothing does is 10 has as new part first that to when is possibly what have whatever of positive have 2 also of slow for as it by br though and characters has so heart broad europe film show of try making to looks in one want key bodies br when is him their that it christmas not them his dancer want this and as it his for on of great stupid of their as end should is very together br twilight us writer br were machines go bad aka were young to might us father film any more it her get predictable of alleged for find dvd from through i'm her get up happily date of lionel with other is him pushed has columbo criticized to what's of thief this so superior too not as you it get up br is others their was out least that hilarious not was into through to why for as it by br of where suits was one your life \"]"
      ]
     },
     "execution_count": 93,
     "metadata": {},
     "output_type": "execute_result"
    }
   ],
   "source": [
    "translated_sentence[8]"
   ]
  },
  {
   "cell_type": "code",
   "execution_count": 95,
   "metadata": {},
   "outputs": [
    {
     "data": {
      "text/plain": [
       "1"
      ]
     },
     "execution_count": 95,
     "metadata": {},
     "output_type": "execute_result"
    }
   ],
   "source": [
    "Y[8]"
   ]
  },
  {
   "cell_type": "markdown",
   "metadata": {
    "executionInfo": {
     "elapsed": 10020,
     "status": "ok",
     "timestamp": 1620158835353,
     "user": {
      "displayName": "Shivang Shrivastav",
      "photoUrl": "https://lh3.googleusercontent.com/a-/AOh14Gg9xISSyRzd-eFKbT4A88T2GEKu4pGdCDRdydWc0g=s64",
      "userId": "00987918723260281132"
     },
     "user_tz": -330
    },
    "id": "z6mFwZ8awz9b"
   },
   "source": [
    "<span style=\"color:green;font-weight:bold; font-size:2em\">2. Perform relevant sequence adding on the data<span>"
   ]
  },
  {
   "cell_type": "code",
   "execution_count": 96,
   "metadata": {
    "executionInfo": {
     "elapsed": 10015,
     "status": "ok",
     "timestamp": 1620158835354,
     "user": {
      "displayName": "Shivang Shrivastav",
      "photoUrl": "https://lh3.googleusercontent.com/a-/AOh14Gg9xISSyRzd-eFKbT4A88T2GEKu4pGdCDRdydWc0g=s64",
      "userId": "00987918723260281132"
     },
     "user_tz": -330
    },
    "id": "wqFpvgukbGwI"
   },
   "outputs": [],
   "source": [
    "from tensorflow.keras.preprocessing.sequence import pad_sequences\n",
    "maxlen = 20\n",
    "X = pad_sequences(maxlen=maxlen, sequences=X['Sentence'], padding=\"post\", value=0)"
   ]
  },
  {
   "cell_type": "code",
   "execution_count": 97,
   "metadata": {
    "colab": {
     "base_uri": "https://localhost:8080/"
    },
    "executionInfo": {
     "elapsed": 10009,
     "status": "ok",
     "timestamp": 1620158835355,
     "user": {
      "displayName": "Shivang Shrivastav",
      "photoUrl": "https://lh3.googleusercontent.com/a-/AOh14Gg9xISSyRzd-eFKbT4A88T2GEKu4pGdCDRdydWc0g=s64",
      "userId": "00987918723260281132"
     },
     "user_tz": -330
    },
    "id": "D9kEAGHbxCwJ",
    "outputId": "fb8a41d3-e905-477e-d3a2-a89751f05204"
   },
   "outputs": [
    {
     "data": {
      "text/plain": [
       "array([[  65,   16,   38, ...,   19,  178,   32],\n",
       "       [  23,    4, 1690, ...,   16,  145,   95],\n",
       "       [1352,   13,  191, ...,    7,  129,  113],\n",
       "       ...,\n",
       "       [ 226,   20,  272, ...,   21,  846, 5518],\n",
       "       [  55,  117,  212, ..., 2302,    7,  470],\n",
       "       [  19,   14,   20, ...,   34, 2005, 2643]])"
      ]
     },
     "execution_count": 97,
     "metadata": {},
     "output_type": "execute_result"
    }
   ],
   "source": [
    "X"
   ]
  },
  {
   "cell_type": "markdown",
   "metadata": {},
   "source": [
    "<span style=\"color:green;font-weight:bold; font-size:2em\">5. Design, train, tune and test a sequential model.<span>"
   ]
  },
  {
   "cell_type": "code",
   "execution_count": 98,
   "metadata": {
    "colab": {
     "base_uri": "https://localhost:8080/"
    },
    "executionInfo": {
     "elapsed": 10000,
     "status": "ok",
     "timestamp": 1620158835355,
     "user": {
      "displayName": "Shivang Shrivastav",
      "photoUrl": "https://lh3.googleusercontent.com/a-/AOh14Gg9xISSyRzd-eFKbT4A88T2GEKu4pGdCDRdydWc0g=s64",
      "userId": "00987918723260281132"
     },
     "user_tz": -330
    },
    "id": "Igaq3DNebGwJ",
    "outputId": "f80b686e-15e0-4ddf-c111-4450101f0822"
   },
   "outputs": [
    {
     "name": "stdout",
     "output_type": "stream",
     "text": [
      "Model: \"sequential_1\"\n",
      "_________________________________________________________________\n",
      "Layer (type)                 Output Shape              Param #   \n",
      "=================================================================\n",
      "embedding_1 (Embedding)      (None, 20, 128)           1280000   \n",
      "_________________________________________________________________\n",
      "spatial_dropout1d_1 (Spatial (None, 20, 128)           0         \n",
      "_________________________________________________________________\n",
      "bidirectional_1 (Bidirection (None, 392)               509600    \n",
      "_________________________________________________________________\n",
      "dense_1 (Dense)              (None, 1)                 393       \n",
      "=================================================================\n",
      "Total params: 1,789,993\n",
      "Trainable params: 1,789,993\n",
      "Non-trainable params: 0\n",
      "_________________________________________________________________\n",
      "None\n"
     ]
    }
   ],
   "source": [
    "from tensorflow.keras.models import Sequential\n",
    "from tensorflow.keras.layers import Dense, Embedding, LSTM, SpatialDropout1D,Bidirectional\n",
    "\n",
    "embed_dim = 128\n",
    "lstm_out = 196\n",
    "\n",
    "model = Sequential()\n",
    "model.add(Embedding(10000, embed_dim,input_length = X.shape[1]))\n",
    "model.add(SpatialDropout1D(0.4))\n",
    "model.add(Bidirectional(LSTM(lstm_out, dropout=0.2, recurrent_dropout=0.2)))\n",
    "model.add(Dense(1,activation='sigmoid'))\n",
    "model.compile(loss = 'binary_crossentropy', optimizer='adam',metrics = ['accuracy'])\n",
    "print(model.summary())"
   ]
  },
  {
   "cell_type": "code",
   "execution_count": 99,
   "metadata": {
    "colab": {
     "base_uri": "https://localhost:8080/"
    },
    "executionInfo": {
     "elapsed": 9992,
     "status": "ok",
     "timestamp": 1620158835356,
     "user": {
      "displayName": "Shivang Shrivastav",
      "photoUrl": "https://lh3.googleusercontent.com/a-/AOh14Gg9xISSyRzd-eFKbT4A88T2GEKu4pGdCDRdydWc0g=s64",
      "userId": "00987918723260281132"
     },
     "user_tz": -330
    },
    "id": "_UaXo2K5vYEo",
    "outputId": "b3f4ae91-88b3-41e9-c6d4-58e0d6233160"
   },
   "outputs": [
    {
     "data": {
      "text/plain": [
       "array([[  65,   16,   38, ...,   19,  178,   32],\n",
       "       [  23,    4, 1690, ...,   16,  145,   95],\n",
       "       [1352,   13,  191, ...,    7,  129,  113],\n",
       "       ...,\n",
       "       [ 226,   20,  272, ...,   21,  846, 5518],\n",
       "       [  55,  117,  212, ..., 2302,    7,  470],\n",
       "       [  19,   14,   20, ...,   34, 2005, 2643]])"
      ]
     },
     "execution_count": 99,
     "metadata": {},
     "output_type": "execute_result"
    }
   ],
   "source": [
    "X"
   ]
  },
  {
   "cell_type": "code",
   "execution_count": 100,
   "metadata": {
    "colab": {
     "base_uri": "https://localhost:8080/"
    },
    "executionInfo": {
     "elapsed": 9983,
     "status": "ok",
     "timestamp": 1620158835356,
     "user": {
      "displayName": "Shivang Shrivastav",
      "photoUrl": "https://lh3.googleusercontent.com/a-/AOh14Gg9xISSyRzd-eFKbT4A88T2GEKu4pGdCDRdydWc0g=s64",
      "userId": "00987918723260281132"
     },
     "user_tz": -330
    },
    "id": "ncC31FSCvbvE",
    "outputId": "3a7b052e-eb26-4e62-8389-b2a6a531a6fb"
   },
   "outputs": [
    {
     "data": {
      "text/plain": [
       "(50000, 20)"
      ]
     },
     "execution_count": 100,
     "metadata": {},
     "output_type": "execute_result"
    }
   ],
   "source": [
    "X.shape"
   ]
  },
  {
   "cell_type": "code",
   "execution_count": 101,
   "metadata": {
    "colab": {
     "base_uri": "https://localhost:8080/"
    },
    "executionInfo": {
     "elapsed": 9975,
     "status": "ok",
     "timestamp": 1620158835357,
     "user": {
      "displayName": "Shivang Shrivastav",
      "photoUrl": "https://lh3.googleusercontent.com/a-/AOh14Gg9xISSyRzd-eFKbT4A88T2GEKu4pGdCDRdydWc0g=s64",
      "userId": "00987918723260281132"
     },
     "user_tz": -330
    },
    "id": "a4lpPBgAbGwJ",
    "outputId": "c4746098-8f28-4042-f252-1ffd332d175e"
   },
   "outputs": [
    {
     "name": "stdout",
     "output_type": "stream",
     "text": [
      "(35000, 20) 35000\n",
      "(15000, 20) 15000\n"
     ]
    }
   ],
   "source": [
    "from sklearn.model_selection import train_test_split\n",
    "\n",
    "Y=np.array(Y)\n",
    "X_train, x_test, Y_train, y_test = train_test_split(X,Y, test_size = 0.30, random_state = 42)\n",
    "print(X_train.shape,len(Y_train))\n",
    "print(x_test.shape,len(y_test))"
   ]
  },
  {
   "cell_type": "code",
   "execution_count": 102,
   "metadata": {
    "colab": {
     "base_uri": "https://localhost:8080/"
    },
    "executionInfo": {
     "elapsed": 9966,
     "status": "ok",
     "timestamp": 1620158835357,
     "user": {
      "displayName": "Shivang Shrivastav",
      "photoUrl": "https://lh3.googleusercontent.com/a-/AOh14Gg9xISSyRzd-eFKbT4A88T2GEKu4pGdCDRdydWc0g=s64",
      "userId": "00987918723260281132"
     },
     "user_tz": -330
    },
    "id": "N4w7SesTvmDh",
    "outputId": "d2cc92a7-596d-4f57-e5f2-0f6c757e2a97"
   },
   "outputs": [
    {
     "data": {
      "text/plain": [
       "array([ 713,  920,  924,  108,  920,  924, 7039,  321,  108,   40,    2,\n",
       "       1536, 4644,  525,   73,  224,  401,   98,    2,   46])"
      ]
     },
     "execution_count": 102,
     "metadata": {},
     "output_type": "execute_result"
    }
   ],
   "source": [
    "x_test[5]"
   ]
  },
  {
   "cell_type": "code",
   "execution_count": 103,
   "metadata": {
    "colab": {
     "base_uri": "https://localhost:8080/"
    },
    "executionInfo": {
     "elapsed": 9957,
     "status": "ok",
     "timestamp": 1620158835357,
     "user": {
      "displayName": "Shivang Shrivastav",
      "photoUrl": "https://lh3.googleusercontent.com/a-/AOh14Gg9xISSyRzd-eFKbT4A88T2GEKu4pGdCDRdydWc0g=s64",
      "userId": "00987918723260281132"
     },
     "user_tz": -330
    },
    "id": "uyZpGJrcvo9x",
    "outputId": "8d4ce726-4b5d-49ea-cc9e-07058bd2f137"
   },
   "outputs": [
    {
     "data": {
      "text/plain": [
       "1"
      ]
     },
     "execution_count": 103,
     "metadata": {},
     "output_type": "execute_result"
    }
   ],
   "source": [
    "y_test[5]"
   ]
  },
  {
   "cell_type": "code",
   "execution_count": 105,
   "metadata": {
    "colab": {
     "base_uri": "https://localhost:8080/"
    },
    "executionInfo": {
     "elapsed": 79391,
     "status": "ok",
     "timestamp": 1620160063123,
     "user": {
      "displayName": "Shivang Shrivastav",
      "photoUrl": "https://lh3.googleusercontent.com/a-/AOh14Gg9xISSyRzd-eFKbT4A88T2GEKu4pGdCDRdydWc0g=s64",
      "userId": "00987918723260281132"
     },
     "user_tz": -330
    },
    "id": "NB9k-nx5bGwJ",
    "outputId": "3e1f07dc-7a6b-407b-cd9f-7d126bacbacf"
   },
   "outputs": [
    {
     "name": "stdout",
     "output_type": "stream",
     "text": [
      "Train on 35000 samples\n",
      "Epoch 1/10\n",
      "35000/35000 [==============================] - 45s 1ms/sample - loss: 0.3804 - accuracy: 0.8288\n",
      "Epoch 2/10\n",
      "35000/35000 [==============================] - 41s 1ms/sample - loss: 0.3627 - accuracy: 0.8375\n",
      "Epoch 3/10\n",
      "35000/35000 [==============================] - 41s 1ms/sample - loss: 0.3483 - accuracy: 0.8448\n",
      "Epoch 4/10\n",
      "35000/35000 [==============================] - 42s 1ms/sample - loss: 0.3321 - accuracy: 0.8531\n",
      "Epoch 5/10\n",
      "35000/35000 [==============================] - 42s 1ms/sample - loss: 0.3167 - accuracy: 0.8605\n",
      "Epoch 6/10\n",
      "35000/35000 [==============================] - 43s 1ms/sample - loss: 0.2986 - accuracy: 0.8727\n",
      "Epoch 7/10\n",
      "35000/35000 [==============================] - 44s 1ms/sample - loss: 0.2810 - accuracy: 0.8805\n",
      "Epoch 8/10\n",
      "35000/35000 [==============================] - 45s 1ms/sample - loss: 0.2610 - accuracy: 0.8890\n",
      "Epoch 9/10\n",
      "35000/35000 [==============================] - 44s 1ms/sample - loss: 0.2423 - accuracy: 0.8995\n",
      "Epoch 10/10\n",
      "35000/35000 [==============================] - 43s 1ms/sample - loss: 0.2242 - accuracy: 0.9080\n"
     ]
    },
    {
     "data": {
      "text/plain": [
       "<tensorflow.python.keras.callbacks.History at 0x24ab4e0a108>"
      ]
     },
     "execution_count": 105,
     "metadata": {},
     "output_type": "execute_result"
    }
   ],
   "source": [
    "batch_size = 500\n",
    "model.fit(X_train, Y_train, epochs = 10, batch_size=batch_size, verbose = 1)"
   ]
  },
  {
   "cell_type": "code",
   "execution_count": 106,
   "metadata": {
    "colab": {
     "base_uri": "https://localhost:8080/"
    },
    "executionInfo": {
     "elapsed": 6630,
     "status": "ok",
     "timestamp": 1620160069745,
     "user": {
      "displayName": "Shivang Shrivastav",
      "photoUrl": "https://lh3.googleusercontent.com/a-/AOh14Gg9xISSyRzd-eFKbT4A88T2GEKu4pGdCDRdydWc0g=s64",
      "userId": "00987918723260281132"
     },
     "user_tz": -330
    },
    "id": "0VGY565abGwK",
    "outputId": "c5fc5762-5c7d-41b5-d8f3-85327f20c757"
   },
   "outputs": [
    {
     "name": "stdout",
     "output_type": "stream",
     "text": [
      "15000/1 - 7s - loss: 0.6303 - accuracy: 0.7666\n",
      "score: 0.60\n",
      "acc: 0.77\n"
     ]
    }
   ],
   "source": [
    "score,acc = model.evaluate(x_test, y_test, verbose = 2, batch_size = batch_size)\n",
    "print(\"score: %.2f\" % (score))\n",
    "print(\"acc: %.2f\" % (acc))"
   ]
  },
  {
   "cell_type": "markdown",
   "metadata": {},
   "source": [
    "<span style=\"color:green;font-weight:bold; font-size:2em\">6. Use the designed model to print the prediction on any one sample.<span>"
   ]
  },
  {
   "cell_type": "code",
   "execution_count": 107,
   "metadata": {
    "colab": {
     "base_uri": "https://localhost:8080/"
    },
    "executionInfo": {
     "elapsed": 39,
     "status": "ok",
     "timestamp": 1620160069746,
     "user": {
      "displayName": "Shivang Shrivastav",
      "photoUrl": "https://lh3.googleusercontent.com/a-/AOh14Gg9xISSyRzd-eFKbT4A88T2GEKu4pGdCDRdydWc0g=s64",
      "userId": "00987918723260281132"
     },
     "user_tz": -330
    },
    "id": "qyCV7uKBbGwK",
    "outputId": "4e200efd-6185-45e9-fad7-428932f842f4"
   },
   "outputs": [
    {
     "data": {
      "text/plain": [
       "array([0.8858513], dtype=float32)"
      ]
     },
     "execution_count": 107,
     "metadata": {},
     "output_type": "execute_result"
    }
   ],
   "source": [
    "y = model.predict(np.expand_dims(x_test[5],axis=0))\n",
    "y[0]"
   ]
  },
  {
   "cell_type": "code",
   "execution_count": 108,
   "metadata": {
    "colab": {
     "base_uri": "https://localhost:8080/"
    },
    "executionInfo": {
     "elapsed": 31,
     "status": "ok",
     "timestamp": 1620160069747,
     "user": {
      "displayName": "Shivang Shrivastav",
      "photoUrl": "https://lh3.googleusercontent.com/a-/AOh14Gg9xISSyRzd-eFKbT4A88T2GEKu4pGdCDRdydWc0g=s64",
      "userId": "00987918723260281132"
     },
     "user_tz": -330
    },
    "id": "MzmLv4-qbGwK",
    "outputId": "13f4028e-3eae-4949-a761-abf6701615eb"
   },
   "outputs": [
    {
     "data": {
      "text/plain": [
       "1"
      ]
     },
     "execution_count": 108,
     "metadata": {},
     "output_type": "execute_result"
    }
   ],
   "source": [
    "y_test[5]"
   ]
  },
  {
   "cell_type": "code",
   "execution_count": null,
   "metadata": {
    "executionInfo": {
     "elapsed": 23,
     "status": "ok",
     "timestamp": 1620160069747,
     "user": {
      "displayName": "Shivang Shrivastav",
      "photoUrl": "https://lh3.googleusercontent.com/a-/AOh14Gg9xISSyRzd-eFKbT4A88T2GEKu4pGdCDRdydWc0g=s64",
      "userId": "00987918723260281132"
     },
     "user_tz": -330
    },
    "id": "B8UYQJmnvG8_"
   },
   "outputs": [],
   "source": []
  },
  {
   "cell_type": "code",
   "execution_count": null,
   "metadata": {},
   "outputs": [],
   "source": []
  }
 ],
 "metadata": {
  "accelerator": "GPU",
  "colab": {
   "collapsed_sections": [],
   "name": "Final_ColabNotebook.ipynb",
   "provenance": []
  },
  "kernelspec": {
   "display_name": "Python 3",
   "language": "python",
   "name": "python3"
  },
  "language_info": {
   "codemirror_mode": {
    "name": "ipython",
    "version": 3
   },
   "file_extension": ".py",
   "mimetype": "text/x-python",
   "name": "python",
   "nbconvert_exporter": "python",
   "pygments_lexer": "ipython3",
   "version": "3.7.7"
  }
 },
 "nbformat": 4,
 "nbformat_minor": 4
}
