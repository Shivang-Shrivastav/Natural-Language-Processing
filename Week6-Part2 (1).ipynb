{
 "cells": [
  {
   "cell_type": "code",
   "execution_count": 32,
   "metadata": {
    "executionInfo": {
     "elapsed": 1537,
     "status": "ok",
     "timestamp": 1620303386058,
     "user": {
      "displayName": "Shivang Shrivastav",
      "photoUrl": "https://lh3.googleusercontent.com/a-/AOh14Gg9xISSyRzd-eFKbT4A88T2GEKu4pGdCDRdydWc0g=s64",
      "userId": "00987918723260281132"
     },
     "user_tz": -330
    },
    "id": "0R9VysMlWwcK"
   },
   "outputs": [],
   "source": [
    "import pandas as pd\n",
    "import numpy as np\n",
    "import json"
   ]
  },
  {
   "cell_type": "code",
   "execution_count": 33,
   "metadata": {
    "executionInfo": {
     "elapsed": 1523,
     "status": "ok",
     "timestamp": 1620303386059,
     "user": {
      "displayName": "Shivang Shrivastav",
      "photoUrl": "https://lh3.googleusercontent.com/a-/AOh14Gg9xISSyRzd-eFKbT4A88T2GEKu4pGdCDRdydWc0g=s64",
      "userId": "00987918723260281132"
     },
     "user_tz": -330
    },
    "id": "74XWrF79WyyL"
   },
   "outputs": [],
   "source": [
    "# from google.colab import drive\n",
    "# drive.mount('/content/drive/')"
   ]
  },
  {
   "cell_type": "markdown",
   "metadata": {},
   "source": [
    "<span style=\"color:green;font-weight:bold; font-size:2em\">1. Read and explore the data<span>"
   ]
  },
  {
   "cell_type": "code",
   "execution_count": 34,
   "metadata": {
    "executionInfo": {
     "elapsed": 1517,
     "status": "ok",
     "timestamp": 1620303386059,
     "user": {
      "displayName": "Shivang Shrivastav",
      "photoUrl": "https://lh3.googleusercontent.com/a-/AOh14Gg9xISSyRzd-eFKbT4A88T2GEKu4pGdCDRdydWc0g=s64",
      "userId": "00987918723260281132"
     },
     "user_tz": -330
    },
    "id": "MksOStOQWwcR"
   },
   "outputs": [],
   "source": [
    "def parseJson(fname):\n",
    "    for line in open(fname,encoding=\"utf8\",errors='ignore'):\n",
    "        yield eval(line)"
   ]
  },
  {
   "cell_type": "code",
   "execution_count": 35,
   "metadata": {
    "executionInfo": {
     "elapsed": 2457,
     "status": "ok",
     "timestamp": 1620303387005,
     "user": {
      "displayName": "Shivang Shrivastav",
      "photoUrl": "https://lh3.googleusercontent.com/a-/AOh14Gg9xISSyRzd-eFKbT4A88T2GEKu4pGdCDRdydWc0g=s64",
      "userId": "00987918723260281132"
     },
     "user_tz": -330
    },
    "id": "zR9TNxx8WwcS"
   },
   "outputs": [],
   "source": [
    "data = list(parseJson('Sarcasm_Headlines_Dataset.json'))"
   ]
  },
  {
   "cell_type": "code",
   "execution_count": 36,
   "metadata": {
    "colab": {
     "base_uri": "https://localhost:8080/"
    },
    "executionInfo": {
     "elapsed": 2450,
     "status": "ok",
     "timestamp": 1620303387006,
     "user": {
      "displayName": "Shivang Shrivastav",
      "photoUrl": "https://lh3.googleusercontent.com/a-/AOh14Gg9xISSyRzd-eFKbT4A88T2GEKu4pGdCDRdydWc0g=s64",
      "userId": "00987918723260281132"
     },
     "user_tz": -330
    },
    "id": "xytZYABkWwcS",
    "outputId": "f18c4512-a3a3-4b41-caa3-59aa97267f6c"
   },
   "outputs": [
    {
     "data": {
      "text/plain": [
       "26709"
      ]
     },
     "execution_count": 36,
     "metadata": {},
     "output_type": "execute_result"
    }
   ],
   "source": [
    "len(data)"
   ]
  },
  {
   "cell_type": "code",
   "execution_count": 37,
   "metadata": {
    "colab": {
     "base_uri": "https://localhost:8080/"
    },
    "executionInfo": {
     "elapsed": 2438,
     "status": "ok",
     "timestamp": 1620303387006,
     "user": {
      "displayName": "Shivang Shrivastav",
      "photoUrl": "https://lh3.googleusercontent.com/a-/AOh14Gg9xISSyRzd-eFKbT4A88T2GEKu4pGdCDRdydWc0g=s64",
      "userId": "00987918723260281132"
     },
     "user_tz": -330
    },
    "id": "Crtt_WnEWwcT",
    "outputId": "511f8a47-1099-44db-d1b4-904d0b7d8183"
   },
   "outputs": [
    {
     "data": {
      "text/plain": [
       "{'article_link': 'https://www.huffingtonpost.com/entry/versace-black-code_us_5861fbefe4b0de3a08f600d5',\n",
       " 'headline': \"former versace store clerk sues over secret 'black code' for minority shoppers\",\n",
       " 'is_sarcastic': 0}"
      ]
     },
     "execution_count": 37,
     "metadata": {},
     "output_type": "execute_result"
    }
   ],
   "source": [
    "data[0]"
   ]
  },
  {
   "cell_type": "markdown",
   "metadata": {},
   "source": [
    "<span style=\"color:green;font-weight:bold; font-size:2em\">2. Retain relevant columns<span>"
   ]
  },
  {
   "cell_type": "code",
   "execution_count": 38,
   "metadata": {
    "executionInfo": {
     "elapsed": 2431,
     "status": "ok",
     "timestamp": 1620303387007,
     "user": {
      "displayName": "Shivang Shrivastav",
      "photoUrl": "https://lh3.googleusercontent.com/a-/AOh14Gg9xISSyRzd-eFKbT4A88T2GEKu4pGdCDRdydWc0g=s64",
      "userId": "00987918723260281132"
     },
     "user_tz": -330
    },
    "id": "MIko0jZcWwcU"
   },
   "outputs": [],
   "source": [
    "headline =[]\n",
    "sarcasm = []\n",
    "\n",
    "for i in range(len(data)):\n",
    "    headline.append(data[i]['headline'])\n",
    "    sarcasm.append(data[i]['is_sarcastic'])\n",
    "    "
   ]
  },
  {
   "cell_type": "code",
   "execution_count": 39,
   "metadata": {
    "colab": {
     "base_uri": "https://localhost:8080/"
    },
    "executionInfo": {
     "elapsed": 2424,
     "status": "ok",
     "timestamp": 1620303387007,
     "user": {
      "displayName": "Shivang Shrivastav",
      "photoUrl": "https://lh3.googleusercontent.com/a-/AOh14Gg9xISSyRzd-eFKbT4A88T2GEKu4pGdCDRdydWc0g=s64",
      "userId": "00987918723260281132"
     },
     "user_tz": -330
    },
    "id": "gs8yZBnmWwcU",
    "outputId": "81b7b81b-8511-46c8-ffec-9b366eb79c83"
   },
   "outputs": [
    {
     "name": "stdout",
     "output_type": "stream",
     "text": [
      "26709\n",
      "26709\n"
     ]
    }
   ],
   "source": [
    "print(len(headline))\n",
    "print(len(sarcasm))"
   ]
  },
  {
   "cell_type": "code",
   "execution_count": 40,
   "metadata": {
    "executionInfo": {
     "elapsed": 2416,
     "status": "ok",
     "timestamp": 1620303387008,
     "user": {
      "displayName": "Shivang Shrivastav",
      "photoUrl": "https://lh3.googleusercontent.com/a-/AOh14Gg9xISSyRzd-eFKbT4A88T2GEKu4pGdCDRdydWc0g=s64",
      "userId": "00987918723260281132"
     },
     "user_tz": -330
    },
    "id": "c-pmdUbIWwcV"
   },
   "outputs": [],
   "source": [
    "count = dict()\n",
    "\n",
    "for x in sarcasm:\n",
    "    if x in count:\n",
    "        count[x] +=1\n",
    "    else:\n",
    "        count[x] = 1"
   ]
  },
  {
   "cell_type": "code",
   "execution_count": 41,
   "metadata": {
    "colab": {
     "base_uri": "https://localhost:8080/"
    },
    "executionInfo": {
     "elapsed": 2408,
     "status": "ok",
     "timestamp": 1620303387008,
     "user": {
      "displayName": "Shivang Shrivastav",
      "photoUrl": "https://lh3.googleusercontent.com/a-/AOh14Gg9xISSyRzd-eFKbT4A88T2GEKu4pGdCDRdydWc0g=s64",
      "userId": "00987918723260281132"
     },
     "user_tz": -330
    },
    "id": "sg-1ZdwDWwcV",
    "outputId": "9514df2f-9b94-46be-f746-51bf897cf923"
   },
   "outputs": [
    {
     "data": {
      "text/plain": [
       "{0: 14985, 1: 11724}"
      ]
     },
     "execution_count": 41,
     "metadata": {},
     "output_type": "execute_result"
    }
   ],
   "source": [
    "count"
   ]
  },
  {
   "cell_type": "code",
   "execution_count": 42,
   "metadata": {
    "colab": {
     "base_uri": "https://localhost:8080/"
    },
    "executionInfo": {
     "elapsed": 2399,
     "status": "ok",
     "timestamp": 1620303387009,
     "user": {
      "displayName": "Shivang Shrivastav",
      "photoUrl": "https://lh3.googleusercontent.com/a-/AOh14Gg9xISSyRzd-eFKbT4A88T2GEKu4pGdCDRdydWc0g=s64",
      "userId": "00987918723260281132"
     },
     "user_tz": -330
    },
    "id": "lKheu7RbWwcV",
    "outputId": "4d1be15e-5045-4f1a-80fe-02675b6c881a"
   },
   "outputs": [
    {
     "name": "stdout",
     "output_type": "stream",
     "text": [
      "The number of Sarcastic Headlines are:     11724\n",
      "The number of Non Sarcastic Headlines are: 14985\n",
      "Total number of Sarcastic Headlines are:   26709\n"
     ]
    }
   ],
   "source": [
    "print(f\"The number of Sarcastic Headlines are:     {count[1]}\")\n",
    "print(f\"The number of Non Sarcastic Headlines are: {count[0]}\")\n",
    "print(f\"Total number of Sarcastic Headlines are:   {len(sarcasm)}\")"
   ]
  },
  {
   "cell_type": "markdown",
   "metadata": {},
   "source": [
    "<span style=\"color:green;font-weight:bold; font-size:2em\">3. Get length of each sentence<span>"
   ]
  },
  {
   "cell_type": "code",
   "execution_count": 43,
   "metadata": {
    "executionInfo": {
     "elapsed": 2390,
     "status": "ok",
     "timestamp": 1620303387009,
     "user": {
      "displayName": "Shivang Shrivastav",
      "photoUrl": "https://lh3.googleusercontent.com/a-/AOh14Gg9xISSyRzd-eFKbT4A88T2GEKu4pGdCDRdydWc0g=s64",
      "userId": "00987918723260281132"
     },
     "user_tz": -330
    },
    "id": "8RuncTUZWwcW"
   },
   "outputs": [],
   "source": [
    "length = []\n",
    "for x in headline:\n",
    "    length.append(len(x))"
   ]
  },
  {
   "cell_type": "code",
   "execution_count": 44,
   "metadata": {
    "colab": {
     "base_uri": "https://localhost:8080/"
    },
    "executionInfo": {
     "elapsed": 2382,
     "status": "ok",
     "timestamp": 1620303387010,
     "user": {
      "displayName": "Shivang Shrivastav",
      "photoUrl": "https://lh3.googleusercontent.com/a-/AOh14Gg9xISSyRzd-eFKbT4A88T2GEKu4pGdCDRdydWc0g=s64",
      "userId": "00987918723260281132"
     },
     "user_tz": -330
    },
    "id": "iFIngpLyWwcW",
    "outputId": "f6066ee3-7709-4aa6-d0f6-07aaf804ef30"
   },
   "outputs": [
    {
     "data": {
      "text/plain": [
       "254"
      ]
     },
     "execution_count": 44,
     "metadata": {},
     "output_type": "execute_result"
    }
   ],
   "source": [
    "max(length)"
   ]
  },
  {
   "cell_type": "code",
   "execution_count": 45,
   "metadata": {
    "colab": {
     "base_uri": "https://localhost:8080/"
    },
    "executionInfo": {
     "elapsed": 2371,
     "status": "ok",
     "timestamp": 1620303387010,
     "user": {
      "displayName": "Shivang Shrivastav",
      "photoUrl": "https://lh3.googleusercontent.com/a-/AOh14Gg9xISSyRzd-eFKbT4A88T2GEKu4pGdCDRdydWc0g=s64",
      "userId": "00987918723260281132"
     },
     "user_tz": -330
    },
    "id": "TkEemd07WwcW",
    "outputId": "a9ade264-cb46-4652-f016-e714f9345c25"
   },
   "outputs": [
    {
     "data": {
      "text/plain": [
       "[78, 84, 79, 84, 64, 27, 46, 67, 50, 59]"
      ]
     },
     "execution_count": 45,
     "metadata": {},
     "output_type": "execute_result"
    }
   ],
   "source": [
    "length[:10]"
   ]
  },
  {
   "cell_type": "markdown",
   "metadata": {},
   "source": [
    "<span style=\"color:green;font-weight:bold; font-size:2em\">4. Define parameters<span>"
   ]
  },
  {
   "cell_type": "markdown",
   "metadata": {},
   "source": [
    "<span style=\"color:green;font-weight:bold; font-size:2em\">5. Get indices for words<span>"
   ]
  },
  {
   "cell_type": "markdown",
   "metadata": {},
   "source": [
    "<span style=\"color:green;font-weight:bold; font-size:2em\">7. Get vocabulary size<span>"
   ]
  },
  {
   "cell_type": "code",
   "execution_count": 46,
   "metadata": {
    "executionInfo": {
     "elapsed": 2362,
     "status": "ok",
     "timestamp": 1620303387011,
     "user": {
      "displayName": "Shivang Shrivastav",
      "photoUrl": "https://lh3.googleusercontent.com/a-/AOh14Gg9xISSyRzd-eFKbT4A88T2GEKu4pGdCDRdydWc0g=s64",
      "userId": "00987918723260281132"
     },
     "user_tz": -330
    },
    "id": "KKH1tVhaWwcX"
   },
   "outputs": [],
   "source": [
    "vocab_size = 30000\n",
    "oov_token = \"<OOV>\"\n",
    "max_length = 100\n",
    "padding_type = \"post\"\n",
    "trunction_type=\"post\""
   ]
  },
  {
   "cell_type": "code",
   "execution_count": 47,
   "metadata": {
    "executionInfo": {
     "elapsed": 2356,
     "status": "ok",
     "timestamp": 1620303387011,
     "user": {
      "displayName": "Shivang Shrivastav",
      "photoUrl": "https://lh3.googleusercontent.com/a-/AOh14Gg9xISSyRzd-eFKbT4A88T2GEKu4pGdCDRdydWc0g=s64",
      "userId": "00987918723260281132"
     },
     "user_tz": -330
    },
    "id": "Qvx7aeP-WwcX"
   },
   "outputs": [],
   "source": [
    "from keras.preprocessing.text import Tokenizer\n",
    "tokenizer = Tokenizer(num_words = vocab_size, oov_token=oov_token)\n",
    "tokenizer.fit_on_texts(headline)"
   ]
  },
  {
   "cell_type": "code",
   "execution_count": 48,
   "metadata": {
    "executionInfo": {
     "elapsed": 2810,
     "status": "ok",
     "timestamp": 1620303387471,
     "user": {
      "displayName": "Shivang Shrivastav",
      "photoUrl": "https://lh3.googleusercontent.com/a-/AOh14Gg9xISSyRzd-eFKbT4A88T2GEKu4pGdCDRdydWc0g=s64",
      "userId": "00987918723260281132"
     },
     "user_tz": -330
    },
    "id": "VxACNdeRWwcX"
   },
   "outputs": [],
   "source": [
    "word_index = tokenizer.word_index"
   ]
  },
  {
   "cell_type": "code",
   "execution_count": 49,
   "metadata": {
    "colab": {
     "base_uri": "https://localhost:8080/"
    },
    "executionInfo": {
     "elapsed": 2804,
     "status": "ok",
     "timestamp": 1620303387472,
     "user": {
      "displayName": "Shivang Shrivastav",
      "photoUrl": "https://lh3.googleusercontent.com/a-/AOh14Gg9xISSyRzd-eFKbT4A88T2GEKu4pGdCDRdydWc0g=s64",
      "userId": "00987918723260281132"
     },
     "user_tz": -330
    },
    "id": "qR0iLkIoWwcX",
    "outputId": "405374c5-e57b-4162-b642-822b22ae3042"
   },
   "outputs": [
    {
     "data": {
      "text/plain": [
       "29657"
      ]
     },
     "execution_count": 49,
     "metadata": {},
     "output_type": "execute_result"
    }
   ],
   "source": [
    "len(word_index)"
   ]
  },
  {
   "cell_type": "code",
   "execution_count": 50,
   "metadata": {
    "executionInfo": {
     "elapsed": 2796,
     "status": "ok",
     "timestamp": 1620303387472,
     "user": {
      "displayName": "Shivang Shrivastav",
      "photoUrl": "https://lh3.googleusercontent.com/a-/AOh14Gg9xISSyRzd-eFKbT4A88T2GEKu4pGdCDRdydWc0g=s64",
      "userId": "00987918723260281132"
     },
     "user_tz": -330
    },
    "id": "-ceHfG5pWwcY"
   },
   "outputs": [],
   "source": [
    "X_sequences = tokenizer.texts_to_sequences(headline)"
   ]
  },
  {
   "cell_type": "code",
   "execution_count": 51,
   "metadata": {
    "colab": {
     "base_uri": "https://localhost:8080/"
    },
    "executionInfo": {
     "elapsed": 2790,
     "status": "ok",
     "timestamp": 1620303387473,
     "user": {
      "displayName": "Shivang Shrivastav",
      "photoUrl": "https://lh3.googleusercontent.com/a-/AOh14Gg9xISSyRzd-eFKbT4A88T2GEKu4pGdCDRdydWc0g=s64",
      "userId": "00987918723260281132"
     },
     "user_tz": -330
    },
    "id": "EoJJ0YxqWwcY",
    "outputId": "4cac8d44-b100-4321-8f0c-c07fd1f5abdf"
   },
   "outputs": [
    {
     "data": {
      "text/plain": [
       "[[308, 15115, 679, 3337, 2298, 48, 382, 2576, 15116, 6, 2577, 8434],\n",
       " [4, 8435, 3338, 2746, 22, 2, 166, 8436, 416, 3112, 6, 258, 9, 1002],\n",
       " [145, 838, 2, 907, 1749, 2093, 582, 4719, 221, 143, 39, 46, 2, 10736],\n",
       " [1485, 36, 224, 400, 2, 1832, 29, 319, 22, 10, 2924, 1393, 6969, 968],\n",
       " [767, 719, 4720, 908, 10737, 623, 594, 5, 4, 95, 1309, 92]]"
      ]
     },
     "execution_count": 51,
     "metadata": {},
     "output_type": "execute_result"
    }
   ],
   "source": [
    "X_sequences[:5]"
   ]
  },
  {
   "cell_type": "code",
   "execution_count": 63,
   "metadata": {},
   "outputs": [
    {
     "name": "stdout",
     "output_type": "stream",
     "text": [
      "The X parameter is X_Sequence\n",
      "The Y parameter is Sarcasm\n"
     ]
    }
   ],
   "source": [
    "print(f\"The X parameter is X_Sequence\")\n",
    "print(f\"The Y parameter is Sarcasm\")"
   ]
  },
  {
   "cell_type": "markdown",
   "metadata": {
    "executionInfo": {
     "elapsed": 2779,
     "status": "ok",
     "timestamp": 1620303387473,
     "user": {
      "displayName": "Shivang Shrivastav",
      "photoUrl": "https://lh3.googleusercontent.com/a-/AOh14Gg9xISSyRzd-eFKbT4A88T2GEKu4pGdCDRdydWc0g=s64",
      "userId": "00987918723260281132"
     },
     "user_tz": -330
    },
    "id": "QSila0G_WwcY"
   },
   "source": [
    "<span style=\"color:green;font-weight:bold; font-size:2em\">6. Create features and labels<span>"
   ]
  },
  {
   "cell_type": "code",
   "execution_count": 52,
   "metadata": {
    "executionInfo": {
     "elapsed": 2774,
     "status": "ok",
     "timestamp": 1620303387474,
     "user": {
      "displayName": "Shivang Shrivastav",
      "photoUrl": "https://lh3.googleusercontent.com/a-/AOh14Gg9xISSyRzd-eFKbT4A88T2GEKu4pGdCDRdydWc0g=s64",
      "userId": "00987918723260281132"
     },
     "user_tz": -330
    },
    "id": "2BUaYy1xWwcY"
   },
   "outputs": [],
   "source": [
    "from keras.preprocessing.sequence import pad_sequences\n",
    "X = pad_sequences(X_sequences,maxlen=max_length, padding=padding_type, \n",
    "                       truncating=trunction_type)"
   ]
  },
  {
   "cell_type": "code",
   "execution_count": 53,
   "metadata": {
    "colab": {
     "base_uri": "https://localhost:8080/"
    },
    "executionInfo": {
     "elapsed": 2763,
     "status": "ok",
     "timestamp": 1620303387474,
     "user": {
      "displayName": "Shivang Shrivastav",
      "photoUrl": "https://lh3.googleusercontent.com/a-/AOh14Gg9xISSyRzd-eFKbT4A88T2GEKu4pGdCDRdydWc0g=s64",
      "userId": "00987918723260281132"
     },
     "user_tz": -330
    },
    "id": "41OBmz5cWwcZ",
    "outputId": "5d283576-ad42-40f8-a51d-3ef124de3c9e"
   },
   "outputs": [
    {
     "data": {
      "text/plain": [
       "array([[  308, 15115,   679, ...,     0,     0,     0],\n",
       "       [    4,  8435,  3338, ...,     0,     0,     0],\n",
       "       [  145,   838,     2, ...,     0,     0,     0],\n",
       "       ...,\n",
       "       [10735,     9,    68, ...,     0,     0,     0],\n",
       "       [ 1541,   392,  4164, ...,     0,     0,     0],\n",
       "       [29656,  1647,     6, ...,     0,     0,     0]])"
      ]
     },
     "execution_count": 53,
     "metadata": {},
     "output_type": "execute_result"
    }
   ],
   "source": [
    "X"
   ]
  },
  {
   "cell_type": "code",
   "execution_count": 54,
   "metadata": {
    "executionInfo": {
     "elapsed": 2755,
     "status": "ok",
     "timestamp": 1620303387474,
     "user": {
      "displayName": "Shivang Shrivastav",
      "photoUrl": "https://lh3.googleusercontent.com/a-/AOh14Gg9xISSyRzd-eFKbT4A88T2GEKu4pGdCDRdydWc0g=s64",
      "userId": "00987918723260281132"
     },
     "user_tz": -330
    },
    "id": "sCli79oZWwcZ"
   },
   "outputs": [],
   "source": [
    "y = np.array(sarcasm)"
   ]
  },
  {
   "cell_type": "markdown",
   "metadata": {},
   "source": [
    "<span style=\"color:green;font-weight:bold; font-size:2em\">8. Create a weight matrix using GloVe embeddings<span>"
   ]
  },
  {
   "cell_type": "code",
   "execution_count": 55,
   "metadata": {
    "colab": {
     "base_uri": "https://localhost:8080/"
    },
    "executionInfo": {
     "elapsed": 28349,
     "status": "ok",
     "timestamp": 1620303413075,
     "user": {
      "displayName": "Shivang Shrivastav",
      "photoUrl": "https://lh3.googleusercontent.com/a-/AOh14Gg9xISSyRzd-eFKbT4A88T2GEKu4pGdCDRdydWc0g=s64",
      "userId": "00987918723260281132"
     },
     "user_tz": -330
    },
    "id": "QeYaccMBWwcZ",
    "outputId": "4e13dd5c-2016-4b0a-8c73-d8596c4d7235"
   },
   "outputs": [
    {
     "name": "stdout",
     "output_type": "stream",
     "text": [
      "Found 400000 word vectors.\n"
     ]
    }
   ],
   "source": [
    "embeddings_index = {}\n",
    "f = open('glove.6B.50d.txt',encoding=\"utf8\")\n",
    "for line in f:\n",
    "    values = line.split()\n",
    "    word = values[0]\n",
    "    coefs = np.asarray(values[1:], dtype='float32')\n",
    "    embeddings_index[word] = coefs\n",
    "f.close()\n",
    "\n",
    "print('Found %s word vectors.' % len(embeddings_index))"
   ]
  },
  {
   "cell_type": "code",
   "execution_count": 56,
   "metadata": {
    "executionInfo": {
     "elapsed": 28341,
     "status": "ok",
     "timestamp": 1620303413075,
     "user": {
      "displayName": "Shivang Shrivastav",
      "photoUrl": "https://lh3.googleusercontent.com/a-/AOh14Gg9xISSyRzd-eFKbT4A88T2GEKu4pGdCDRdydWc0g=s64",
      "userId": "00987918723260281132"
     },
     "user_tz": -330
    },
    "id": "xbQQ8NY6WwcZ"
   },
   "outputs": [],
   "source": [
    "embedding_matrix = np.zeros((len(word_index) + 1, 50))\n",
    "for word, i in word_index.items():\n",
    "    embedding_vector = embeddings_index.get(word)\n",
    "    if embedding_vector is not None:\n",
    "        # words not found in embedding index will be all-zeros.\n",
    "        embedding_matrix[i] = embedding_vector"
   ]
  },
  {
   "cell_type": "code",
   "execution_count": 57,
   "metadata": {
    "executionInfo": {
     "elapsed": 28336,
     "status": "ok",
     "timestamp": 1620303413076,
     "user": {
      "displayName": "Shivang Shrivastav",
      "photoUrl": "https://lh3.googleusercontent.com/a-/AOh14Gg9xISSyRzd-eFKbT4A88T2GEKu4pGdCDRdydWc0g=s64",
      "userId": "00987918723260281132"
     },
     "user_tz": -330
    },
    "id": "NkU9WnLtWwca"
   },
   "outputs": [],
   "source": [
    "from keras.models import Sequential\n",
    "from keras.layers import Dense, Embedding, LSTM, Bidirectional\n",
    "from sklearn.model_selection import train_test_split"
   ]
  },
  {
   "cell_type": "code",
   "execution_count": 58,
   "metadata": {
    "executionInfo": {
     "elapsed": 28330,
     "status": "ok",
     "timestamp": 1620303413076,
     "user": {
      "displayName": "Shivang Shrivastav",
      "photoUrl": "https://lh3.googleusercontent.com/a-/AOh14Gg9xISSyRzd-eFKbT4A88T2GEKu4pGdCDRdydWc0g=s64",
      "userId": "00987918723260281132"
     },
     "user_tz": -330
    },
    "id": "cPoStqu_Wwca"
   },
   "outputs": [],
   "source": [
    "embedding_layer = Embedding(len(word_index) + 1,\n",
    "                            50,\n",
    "                            weights=[embedding_matrix],\n",
    "                            input_length=max_length,\n",
    "                            trainable=False)"
   ]
  },
  {
   "cell_type": "markdown",
   "metadata": {},
   "source": [
    "<span style=\"color:green;font-weight:bold; font-size:2em\">9. Define and compile a Bidirectional LSTM model.<span>"
   ]
  },
  {
   "cell_type": "code",
   "execution_count": 59,
   "metadata": {
    "executionInfo": {
     "elapsed": 28993,
     "status": "ok",
     "timestamp": 1620303413745,
     "user": {
      "displayName": "Shivang Shrivastav",
      "photoUrl": "https://lh3.googleusercontent.com/a-/AOh14Gg9xISSyRzd-eFKbT4A88T2GEKu4pGdCDRdydWc0g=s64",
      "userId": "00987918723260281132"
     },
     "user_tz": -330
    },
    "id": "bOvbKghBWwca"
   },
   "outputs": [],
   "source": [
    "embedding_dim = 64\n",
    "input_length = max_length\n",
    "model = Sequential([\n",
    "    embedding_layer,\n",
    "  Bidirectional(LSTM(embedding_dim, return_sequences=True)),\n",
    "  Bidirectional(LSTM(embedding_dim,)),\n",
    "  Dense(128, activation='relu'),\n",
    "  Dense(32, activation='relu'),\n",
    "  Dense(1, activation='sigmoid')\n",
    "])\n",
    "model.compile(loss='binary_crossentropy',optimizer='adam',metrics=['accuracy'])"
   ]
  },
  {
   "cell_type": "code",
   "execution_count": 60,
   "metadata": {
    "colab": {
     "base_uri": "https://localhost:8080/"
    },
    "executionInfo": {
     "elapsed": 28987,
     "status": "ok",
     "timestamp": 1620303413746,
     "user": {
      "displayName": "Shivang Shrivastav",
      "photoUrl": "https://lh3.googleusercontent.com/a-/AOh14Gg9xISSyRzd-eFKbT4A88T2GEKu4pGdCDRdydWc0g=s64",
      "userId": "00987918723260281132"
     },
     "user_tz": -330
    },
    "id": "nSqfDl_LWwcb",
    "outputId": "e49774b7-cc63-4a94-a977-5b566b61c3a4"
   },
   "outputs": [
    {
     "name": "stdout",
     "output_type": "stream",
     "text": [
      "Model: \"sequential_2\"\n",
      "_________________________________________________________________\n",
      "Layer (type)                 Output Shape              Param #   \n",
      "=================================================================\n",
      "embedding_2 (Embedding)      (None, 100, 50)           1482900   \n",
      "_________________________________________________________________\n",
      "bidirectional_3 (Bidirection (None, 100, 128)          58880     \n",
      "_________________________________________________________________\n",
      "bidirectional_4 (Bidirection (None, 128)               98816     \n",
      "_________________________________________________________________\n",
      "dense_4 (Dense)              (None, 128)               16512     \n",
      "_________________________________________________________________\n",
      "dense_5 (Dense)              (None, 32)                4128      \n",
      "_________________________________________________________________\n",
      "dense_6 (Dense)              (None, 1)                 33        \n",
      "=================================================================\n",
      "Total params: 1,661,269\n",
      "Trainable params: 178,369\n",
      "Non-trainable params: 1,482,900\n",
      "_________________________________________________________________\n"
     ]
    }
   ],
   "source": [
    "model.summary()"
   ]
  },
  {
   "cell_type": "markdown",
   "metadata": {},
   "source": [
    "<span style=\"color:green;font-weight:bold; font-size:2em\">10. Fit the model and check the validation accuracy<span>"
   ]
  },
  {
   "cell_type": "code",
   "execution_count": 61,
   "metadata": {
    "executionInfo": {
     "elapsed": 28980,
     "status": "ok",
     "timestamp": 1620303413747,
     "user": {
      "displayName": "Shivang Shrivastav",
      "photoUrl": "https://lh3.googleusercontent.com/a-/AOh14Gg9xISSyRzd-eFKbT4A88T2GEKu4pGdCDRdydWc0g=s64",
      "userId": "00987918723260281132"
     },
     "user_tz": -330
    },
    "id": "uX-PPma1Wwcb"
   },
   "outputs": [],
   "source": [
    "from sklearn.model_selection import train_test_split\n",
    "X_train, X_test , y_train, y_test = train_test_split(X, y , test_size = 0.15,random_state=152)"
   ]
  },
  {
   "cell_type": "code",
   "execution_count": 62,
   "metadata": {
    "colab": {
     "base_uri": "https://localhost:8080/"
    },
    "executionInfo": {
     "elapsed": 134079,
     "status": "ok",
     "timestamp": 1620303518854,
     "user": {
      "displayName": "Shivang Shrivastav",
      "photoUrl": "https://lh3.googleusercontent.com/a-/AOh14Gg9xISSyRzd-eFKbT4A88T2GEKu4pGdCDRdydWc0g=s64",
      "userId": "00987918723260281132"
     },
     "user_tz": -330
    },
    "id": "_z12cYDPWwcb",
    "outputId": "222fc058-6598-4161-bf53-04106ae97268"
   },
   "outputs": [
    {
     "name": "stdout",
     "output_type": "stream",
     "text": [
      "Train on 22702 samples, validate on 4007 samples\n",
      "Epoch 1/10\n",
      "22702/22702 [==============================] - 87s 4ms/step - loss: 0.5071 - accuracy: 0.7465 - val_loss: 0.4438 - val_accuracy: 0.7911\n",
      "Epoch 2/10\n",
      "22702/22702 [==============================] - 93s 4ms/step - loss: 0.3757 - accuracy: 0.8297 - val_loss: 0.3689 - val_accuracy: 0.8313\n",
      "Epoch 3/10\n",
      "22702/22702 [==============================] - 99s 4ms/step - loss: 0.3297 - accuracy: 0.8542 - val_loss: 0.3616 - val_accuracy: 0.8368\n",
      "Epoch 4/10\n",
      "22702/22702 [==============================] - 101s 4ms/step - loss: 0.2967 - accuracy: 0.8700 - val_loss: 0.3566 - val_accuracy: 0.8388\n",
      "Epoch 5/10\n",
      "22702/22702 [==============================] - 102s 4ms/step - loss: 0.2701 - accuracy: 0.8838 - val_loss: 0.3852 - val_accuracy: 0.8340\n",
      "Epoch 6/10\n",
      "22702/22702 [==============================] - 101s 4ms/step - loss: 0.2432 - accuracy: 0.8963 - val_loss: 0.4177 - val_accuracy: 0.8281\n",
      "Epoch 7/10\n",
      "22702/22702 [==============================] - 100s 4ms/step - loss: 0.2242 - accuracy: 0.9080 - val_loss: 0.3789 - val_accuracy: 0.8408\n",
      "Epoch 8/10\n",
      "22702/22702 [==============================] - 98s 4ms/step - loss: 0.1923 - accuracy: 0.9200 - val_loss: 0.3723 - val_accuracy: 0.8448\n",
      "Epoch 9/10\n",
      "22702/22702 [==============================] - 98s 4ms/step - loss: 0.1624 - accuracy: 0.9338 - val_loss: 0.3926 - val_accuracy: 0.8555\n",
      "Epoch 10/10\n",
      "22702/22702 [==============================] - 103s 5ms/step - loss: 0.1325 - accuracy: 0.9474 - val_loss: 0.4585 - val_accuracy: 0.8445\n"
     ]
    }
   ],
   "source": [
    "history = model.fit(X_train, y_train, epochs=10,batch_size=50,validation_data=(X_test, y_test))\n"
   ]
  }
 ],
 "metadata": {
  "accelerator": "GPU",
  "colab": {
   "collapsed_sections": [],
   "name": "Untitled.ipynb",
   "provenance": []
  },
  "kernelspec": {
   "display_name": "Python 3",
   "language": "python",
   "name": "python3"
  },
  "language_info": {
   "codemirror_mode": {
    "name": "ipython",
    "version": 3
   },
   "file_extension": ".py",
   "mimetype": "text/x-python",
   "name": "python",
   "nbconvert_exporter": "python",
   "pygments_lexer": "ipython3",
   "version": "3.7.7"
  }
 },
 "nbformat": 4,
 "nbformat_minor": 4
}
