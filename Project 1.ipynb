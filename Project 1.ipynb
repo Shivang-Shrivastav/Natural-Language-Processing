{
 "cells": [
  {
   "cell_type": "markdown",
   "metadata": {},
   "source": [
    "# Import Required Libraries"
   ]
  },
  {
   "cell_type": "code",
   "execution_count": 1,
   "metadata": {},
   "outputs": [],
   "source": [
    "import numpy as np # linear algebra\n",
    "import pandas as pd # data processing, CSV file I/O (e.g. pd.read_csv)\n",
    "import re # regular expression\n",
    "import seaborn as sns\n",
    "import matplotlib as plt\n",
    "%matplotlib inline\n",
    "import nltk\n",
    "\n",
    "import os\n",
    "# for dirname, _, filenames in os.walk('/kaggle/input'):\n",
    "#     for filename in filenames:\n",
    "#         print(os.path.join(dirname, filename))"
   ]
  },
  {
   "cell_type": "markdown",
   "metadata": {},
   "source": [
    "# Data Import"
   ]
  },
  {
   "cell_type": "code",
   "execution_count": 2,
   "metadata": {},
   "outputs": [],
   "source": [
    "#Import the data set\n",
    "df=pd.read_csv('blogtext.csv')"
   ]
  },
  {
   "cell_type": "code",
   "execution_count": 3,
   "metadata": {},
   "outputs": [
    {
     "data": {
      "text/html": [
       "<div>\n",
       "<style scoped>\n",
       "    .dataframe tbody tr th:only-of-type {\n",
       "        vertical-align: middle;\n",
       "    }\n",
       "\n",
       "    .dataframe tbody tr th {\n",
       "        vertical-align: top;\n",
       "    }\n",
       "\n",
       "    .dataframe thead th {\n",
       "        text-align: right;\n",
       "    }\n",
       "</style>\n",
       "<table border=\"1\" class=\"dataframe\">\n",
       "  <thead>\n",
       "    <tr style=\"text-align: right;\">\n",
       "      <th></th>\n",
       "      <th>id</th>\n",
       "      <th>gender</th>\n",
       "      <th>age</th>\n",
       "      <th>topic</th>\n",
       "      <th>sign</th>\n",
       "      <th>date</th>\n",
       "      <th>text</th>\n",
       "    </tr>\n",
       "  </thead>\n",
       "  <tbody>\n",
       "    <tr>\n",
       "      <th>0</th>\n",
       "      <td>2059027</td>\n",
       "      <td>male</td>\n",
       "      <td>15</td>\n",
       "      <td>Student</td>\n",
       "      <td>Leo</td>\n",
       "      <td>14,May,2004</td>\n",
       "      <td>Info has been found (+/- 100 pages,...</td>\n",
       "    </tr>\n",
       "    <tr>\n",
       "      <th>1</th>\n",
       "      <td>2059027</td>\n",
       "      <td>male</td>\n",
       "      <td>15</td>\n",
       "      <td>Student</td>\n",
       "      <td>Leo</td>\n",
       "      <td>13,May,2004</td>\n",
       "      <td>These are the team members:   Drewe...</td>\n",
       "    </tr>\n",
       "    <tr>\n",
       "      <th>2</th>\n",
       "      <td>2059027</td>\n",
       "      <td>male</td>\n",
       "      <td>15</td>\n",
       "      <td>Student</td>\n",
       "      <td>Leo</td>\n",
       "      <td>12,May,2004</td>\n",
       "      <td>In het kader van kernfusie op aarde...</td>\n",
       "    </tr>\n",
       "    <tr>\n",
       "      <th>3</th>\n",
       "      <td>2059027</td>\n",
       "      <td>male</td>\n",
       "      <td>15</td>\n",
       "      <td>Student</td>\n",
       "      <td>Leo</td>\n",
       "      <td>12,May,2004</td>\n",
       "      <td>testing!!!  testing!!!</td>\n",
       "    </tr>\n",
       "    <tr>\n",
       "      <th>4</th>\n",
       "      <td>3581210</td>\n",
       "      <td>male</td>\n",
       "      <td>33</td>\n",
       "      <td>InvestmentBanking</td>\n",
       "      <td>Aquarius</td>\n",
       "      <td>11,June,2004</td>\n",
       "      <td>Thanks to Yahoo!'s Toolbar I can ...</td>\n",
       "    </tr>\n",
       "  </tbody>\n",
       "</table>\n",
       "</div>"
      ],
      "text/plain": [
       "        id gender  age              topic      sign          date  \\\n",
       "0  2059027   male   15            Student       Leo   14,May,2004   \n",
       "1  2059027   male   15            Student       Leo   13,May,2004   \n",
       "2  2059027   male   15            Student       Leo   12,May,2004   \n",
       "3  2059027   male   15            Student       Leo   12,May,2004   \n",
       "4  3581210   male   33  InvestmentBanking  Aquarius  11,June,2004   \n",
       "\n",
       "                                                text  \n",
       "0             Info has been found (+/- 100 pages,...  \n",
       "1             These are the team members:   Drewe...  \n",
       "2             In het kader van kernfusie op aarde...  \n",
       "3                   testing!!!  testing!!!            \n",
       "4               Thanks to Yahoo!'s Toolbar I can ...  "
      ]
     },
     "execution_count": 3,
     "metadata": {},
     "output_type": "execute_result"
    }
   ],
   "source": [
    "# see few rows of the imported dataset\n",
    "df.head()"
   ]
  },
  {
   "cell_type": "code",
   "execution_count": 4,
   "metadata": {},
   "outputs": [
    {
     "data": {
      "text/plain": [
       "(681284, 7)"
      ]
     },
     "execution_count": 4,
     "metadata": {},
     "output_type": "execute_result"
    }
   ],
   "source": [
    "# Check the number of rows and columns\n",
    "df.shape"
   ]
  },
  {
   "cell_type": "code",
   "execution_count": 5,
   "metadata": {},
   "outputs": [
    {
     "name": "stdout",
     "output_type": "stream",
     "text": [
      "<class 'pandas.core.frame.DataFrame'>\n",
      "RangeIndex: 681284 entries, 0 to 681283\n",
      "Data columns (total 7 columns):\n",
      "id        681284 non-null int64\n",
      "gender    681284 non-null object\n",
      "age       681284 non-null int64\n",
      "topic     681284 non-null object\n",
      "sign      681284 non-null object\n",
      "date      681284 non-null object\n",
      "text      681284 non-null object\n",
      "dtypes: int64(2), object(5)\n",
      "memory usage: 36.4+ MB\n"
     ]
    }
   ],
   "source": [
    "#Check Data types\n",
    "df.info()"
   ]
  },
  {
   "cell_type": "code",
   "execution_count": 6,
   "metadata": {},
   "outputs": [
    {
     "name": "stdout",
     "output_type": "stream",
     "text": [
      "Number of missing values across columns-\n",
      " id        0\n",
      "gender    0\n",
      "age       0\n",
      "topic     0\n",
      "sign      0\n",
      "date      0\n",
      "text      0\n",
      "dtype: int64\n"
     ]
    }
   ],
   "source": [
    "# Check for missing values present\n",
    "print('Number of missing values across columns-\\n', df.isnull().sum())"
   ]
  },
  {
   "cell_type": "markdown",
   "metadata": {},
   "source": [
    "There are 68,124 records which is large in size to perform analysis and computation, hence we are going to take a subset and rerun with the entire data-set once all errors are fixed and optimization is done"
   ]
  },
  {
   "cell_type": "code",
   "execution_count": 7,
   "metadata": {},
   "outputs": [
    {
     "data": {
      "text/plain": [
       "<matplotlib.axes._subplots.AxesSubplot at 0x1e982693bc8>"
      ]
     },
     "execution_count": 7,
     "metadata": {},
     "output_type": "execute_result"
    },
    {
     "data": {
      "image/png": "[encoded data removed]",
      "text/plain": [
       "<Figure size 432x288 with 1 Axes>"
      ]
     },
     "metadata": {
      "needs_background": "light"
     },
     "output_type": "display_data"
    }
   ],
   "source": [
    "# Checking gendre distribution\n",
    "sns.countplot(x='gender',data=df)"
   ]
  },
  {
   "cell_type": "code",
   "execution_count": 8,
   "metadata": {},
   "outputs": [
    {
     "data": {
      "text/plain": [
       "<matplotlib.axes._subplots.AxesSubplot at 0x1e982175bc8>"
      ]
     },
     "execution_count": 8,
     "metadata": {},
     "output_type": "execute_result"
    },
    {
     "data": {
      "image/png": "[encoded data removed]",
      "text/plain": [
       "<Figure size 432x288 with 1 Axes>"
      ]
     },
     "metadata": {
      "needs_background": "light"
     },
     "output_type": "display_data"
    }
   ],
   "source": [
    "# Checking sign distribution\n",
    "sns.countplot(x='sign',data=df)"
   ]
  },
  {
   "cell_type": "code",
   "execution_count": 9,
   "metadata": {},
   "outputs": [],
   "source": [
    "# Creation of data sub-set\n",
    "data=df.head(15000)"
   ]
  },
  {
   "cell_type": "code",
   "execution_count": 10,
   "metadata": {},
   "outputs": [
    {
     "name": "stderr",
     "output_type": "stream",
     "text": [
      "D:\\Anaconda\\lib\\site-packages\\pandas\\core\\frame.py:4117: SettingWithCopyWarning: \n",
      "A value is trying to be set on a copy of a slice from a DataFrame\n",
      "\n",
      "See the caveats in the documentation: http://pandas.pydata.org/pandas-docs/stable/user_guide/indexing.html#returning-a-view-versus-a-copy\n",
      "  errors=errors,\n"
     ]
    }
   ],
   "source": [
    "# dropping non value added variables - id & date\n",
    "data.drop(['id','date'], axis=1, inplace=True)"
   ]
  },
  {
   "cell_type": "code",
   "execution_count": 11,
   "metadata": {},
   "outputs": [
    {
     "data": {
      "text/html": [
       "<div>\n",
       "<style scoped>\n",
       "    .dataframe tbody tr th:only-of-type {\n",
       "        vertical-align: middle;\n",
       "    }\n",
       "\n",
       "    .dataframe tbody tr th {\n",
       "        vertical-align: top;\n",
       "    }\n",
       "\n",
       "    .dataframe thead th {\n",
       "        text-align: right;\n",
       "    }\n",
       "</style>\n",
       "<table border=\"1\" class=\"dataframe\">\n",
       "  <thead>\n",
       "    <tr style=\"text-align: right;\">\n",
       "      <th></th>\n",
       "      <th>gender</th>\n",
       "      <th>age</th>\n",
       "      <th>topic</th>\n",
       "      <th>sign</th>\n",
       "      <th>text</th>\n",
       "    </tr>\n",
       "  </thead>\n",
       "  <tbody>\n",
       "    <tr>\n",
       "      <th>0</th>\n",
       "      <td>male</td>\n",
       "      <td>15</td>\n",
       "      <td>Student</td>\n",
       "      <td>Leo</td>\n",
       "      <td>Info has been found (+/- 100 pages,...</td>\n",
       "    </tr>\n",
       "    <tr>\n",
       "      <th>1</th>\n",
       "      <td>male</td>\n",
       "      <td>15</td>\n",
       "      <td>Student</td>\n",
       "      <td>Leo</td>\n",
       "      <td>These are the team members:   Drewe...</td>\n",
       "    </tr>\n",
       "    <tr>\n",
       "      <th>2</th>\n",
       "      <td>male</td>\n",
       "      <td>15</td>\n",
       "      <td>Student</td>\n",
       "      <td>Leo</td>\n",
       "      <td>In het kader van kernfusie op aarde...</td>\n",
       "    </tr>\n",
       "    <tr>\n",
       "      <th>3</th>\n",
       "      <td>male</td>\n",
       "      <td>15</td>\n",
       "      <td>Student</td>\n",
       "      <td>Leo</td>\n",
       "      <td>testing!!!  testing!!!</td>\n",
       "    </tr>\n",
       "    <tr>\n",
       "      <th>4</th>\n",
       "      <td>male</td>\n",
       "      <td>33</td>\n",
       "      <td>InvestmentBanking</td>\n",
       "      <td>Aquarius</td>\n",
       "      <td>Thanks to Yahoo!'s Toolbar I can ...</td>\n",
       "    </tr>\n",
       "  </tbody>\n",
       "</table>\n",
       "</div>"
      ],
      "text/plain": [
       "  gender  age              topic      sign  \\\n",
       "0   male   15            Student       Leo   \n",
       "1   male   15            Student       Leo   \n",
       "2   male   15            Student       Leo   \n",
       "3   male   15            Student       Leo   \n",
       "4   male   33  InvestmentBanking  Aquarius   \n",
       "\n",
       "                                                text  \n",
       "0             Info has been found (+/- 100 pages,...  \n",
       "1             These are the team members:   Drewe...  \n",
       "2             In het kader van kernfusie op aarde...  \n",
       "3                   testing!!!  testing!!!            \n",
       "4               Thanks to Yahoo!'s Toolbar I can ...  "
      ]
     },
     "execution_count": 11,
     "metadata": {},
     "output_type": "execute_result"
    }
   ],
   "source": [
    "# looking at few rows post dropping non value added variables\n",
    "data.head()"
   ]
  },
  {
   "cell_type": "code",
   "execution_count": 12,
   "metadata": {},
   "outputs": [
    {
     "name": "stderr",
     "output_type": "stream",
     "text": [
      "D:\\Anaconda\\lib\\site-packages\\ipykernel_launcher.py:2: SettingWithCopyWarning: \n",
      "A value is trying to be set on a copy of a slice from a DataFrame.\n",
      "Try using .loc[row_indexer,col_indexer] = value instead\n",
      "\n",
      "See the caveats in the documentation: http://pandas.pydata.org/pandas-docs/stable/user_guide/indexing.html#returning-a-view-versus-a-copy\n",
      "  \n"
     ]
    }
   ],
   "source": [
    "# converting \"age\" from int to object\n",
    "data['age']=data['age'].astype('object')"
   ]
  },
  {
   "cell_type": "code",
   "execution_count": 13,
   "metadata": {},
   "outputs": [
    {
     "name": "stdout",
     "output_type": "stream",
     "text": [
      "<class 'pandas.core.frame.DataFrame'>\n",
      "RangeIndex: 15000 entries, 0 to 14999\n",
      "Data columns (total 5 columns):\n",
      "gender    15000 non-null object\n",
      "age       15000 non-null object\n",
      "topic     15000 non-null object\n",
      "sign      15000 non-null object\n",
      "text      15000 non-null object\n",
      "dtypes: object(5)\n",
      "memory usage: 586.1+ KB\n"
     ]
    }
   ],
   "source": [
    "# check to ensure all columns in object type\n",
    "data.info()"
   ]
  },
  {
   "cell_type": "markdown",
   "metadata": {},
   "source": [
    "# Data Wrangling for data['text'] column to remove all unwanted text from the column"
   ]
  },
  {
   "cell_type": "code",
   "execution_count": 14,
   "metadata": {},
   "outputs": [
    {
     "name": "stderr",
     "output_type": "stream",
     "text": [
      "D:\\Anaconda\\lib\\site-packages\\ipykernel_launcher.py:2: SettingWithCopyWarning: \n",
      "A value is trying to be set on a copy of a slice from a DataFrame.\n",
      "Try using .loc[row_indexer,col_indexer] = value instead\n",
      "\n",
      "See the caveats in the documentation: http://pandas.pydata.org/pandas-docs/stable/user_guide/indexing.html#returning-a-view-versus-a-copy\n",
      "  \n"
     ]
    }
   ],
   "source": [
    "# remove unwanted chars other than alphanumeric\n",
    "data['clean_data']=data['text'].apply(lambda x: re.sub(r'[^A-Za-z]+',' ',x))"
   ]
  },
  {
   "cell_type": "code",
   "execution_count": 15,
   "metadata": {},
   "outputs": [
    {
     "name": "stderr",
     "output_type": "stream",
     "text": [
      "D:\\Anaconda\\lib\\site-packages\\ipykernel_launcher.py:2: SettingWithCopyWarning: \n",
      "A value is trying to be set on a copy of a slice from a DataFrame.\n",
      "Try using .loc[row_indexer,col_indexer] = value instead\n",
      "\n",
      "See the caveats in the documentation: http://pandas.pydata.org/pandas-docs/stable/user_guide/indexing.html#returning-a-view-versus-a-copy\n",
      "  \n"
     ]
    }
   ],
   "source": [
    "# covert text to lower\n",
    "data['clean_data']=data['clean_data'].apply(lambda x: x.lower())"
   ]
  },
  {
   "cell_type": "code",
   "execution_count": 16,
   "metadata": {},
   "outputs": [
    {
     "name": "stderr",
     "output_type": "stream",
     "text": [
      "D:\\Anaconda\\lib\\site-packages\\ipykernel_launcher.py:2: SettingWithCopyWarning: \n",
      "A value is trying to be set on a copy of a slice from a DataFrame.\n",
      "Try using .loc[row_indexer,col_indexer] = value instead\n",
      "\n",
      "See the caveats in the documentation: http://pandas.pydata.org/pandas-docs/stable/user_guide/indexing.html#returning-a-view-versus-a-copy\n",
      "  \n"
     ]
    }
   ],
   "source": [
    "# remove unwanted spaces\n",
    "data['clean_data']=data['clean_data'].apply(lambda x: x.strip())"
   ]
  },
  {
   "cell_type": "code",
   "execution_count": 17,
   "metadata": {},
   "outputs": [
    {
     "name": "stdout",
     "output_type": "stream",
     "text": [
      "Actual data=======>            These are the team members:   Drewes van der Laag           urlLink mail  Ruiyu Xie                     urlLink mail  Bryan Aaldering (me)          urlLink mail          \n"
     ]
    }
   ],
   "source": [
    "print(\"Actual data=======> {}\".format(data['text'][1]))"
   ]
  },
  {
   "cell_type": "markdown",
   "metadata": {},
   "source": [
    "# Remove all stopwords"
   ]
  },
  {
   "cell_type": "code",
   "execution_count": 18,
   "metadata": {},
   "outputs": [
    {
     "name": "stderr",
     "output_type": "stream",
     "text": [
      "[nltk_data] Downloading package stopwords to C:\\Users\\Shivang\n",
      "[nltk_data]     Shrivastav\\AppData\\Roaming\\nltk_data...\n",
      "[nltk_data]   Package stopwords is already up-to-date!\n"
     ]
    }
   ],
   "source": [
    "#remove stopwords\n",
    "import nltk\n",
    "from nltk.corpus import stopwords\n",
    "nltk.download('stopwords')\n",
    "stop = stopwords.words('english')"
   ]
  },
  {
   "cell_type": "code",
   "execution_count": 19,
   "metadata": {},
   "outputs": [],
   "source": [
    "stopwords=set(stopwords.words('english'))"
   ]
  },
  {
   "cell_type": "code",
   "execution_count": 20,
   "metadata": {},
   "outputs": [
    {
     "name": "stderr",
     "output_type": "stream",
     "text": [
      "D:\\Anaconda\\lib\\site-packages\\ipykernel_launcher.py:1: SettingWithCopyWarning: \n",
      "A value is trying to be set on a copy of a slice from a DataFrame.\n",
      "Try using .loc[row_indexer,col_indexer] = value instead\n",
      "\n",
      "See the caveats in the documentation: http://pandas.pydata.org/pandas-docs/stable/user_guide/indexing.html#returning-a-view-versus-a-copy\n",
      "  \"\"\"Entry point for launching an IPython kernel.\n"
     ]
    }
   ],
   "source": [
    "data['clean_data']=data['clean_data'].apply(lambda x: ' '.join([words for words in x.split() if words not in stopwords]))"
   ]
  },
  {
   "cell_type": "code",
   "execution_count": 21,
   "metadata": {},
   "outputs": [
    {
     "data": {
      "text/plain": [
       "'somehow coca cola way summing things well early flagship jingle like buy world coke tune like teach world sing pretty much summed post woodstock era well add much sales catchy tune korea coke theme urllink stop thinking feel pretty much sums lot korea koreans look relaxed couple stopped thinking started feeling course high regard education math logic deep think many koreans really like work emotion anything else westerners seem sublimate moreso least display different way maybe scratch westerners koreans probably pretty similar context different anyways think losing korea repeat stop thinking feel stop thinking feel stop thinking feel everything alright'"
      ]
     },
     "execution_count": 21,
     "metadata": {},
     "output_type": "execute_result"
    }
   ],
   "source": [
    "data['clean_data'][6]"
   ]
  },
  {
   "cell_type": "markdown",
   "metadata": {},
   "source": [
    "# Merging all other cols into label col."
   ]
  },
  {
   "cell_type": "code",
   "execution_count": 22,
   "metadata": {},
   "outputs": [
    {
     "name": "stderr",
     "output_type": "stream",
     "text": [
      "D:\\Anaconda\\lib\\site-packages\\ipykernel_launcher.py:2: SettingWithCopyWarning: \n",
      "A value is trying to be set on a copy of a slice from a DataFrame.\n",
      "Try using .loc[row_indexer,col_indexer] = value instead\n",
      "\n",
      "See the caveats in the documentation: http://pandas.pydata.org/pandas-docs/stable/user_guide/indexing.html#returning-a-view-versus-a-copy\n",
      "  \n"
     ]
    }
   ],
   "source": [
    "# merging cols. gender, age, topic and sign into lables col\n",
    "data['labels']=data.apply(lambda col: [col['gender'],str(col['age']),col['topic'],col['sign']], axis=1)"
   ]
  },
  {
   "cell_type": "code",
   "execution_count": 23,
   "metadata": {},
   "outputs": [
    {
     "data": {
      "text/html": [
       "<div>\n",
       "<style scoped>\n",
       "    .dataframe tbody tr th:only-of-type {\n",
       "        vertical-align: middle;\n",
       "    }\n",
       "\n",
       "    .dataframe tbody tr th {\n",
       "        vertical-align: top;\n",
       "    }\n",
       "\n",
       "    .dataframe thead th {\n",
       "        text-align: right;\n",
       "    }\n",
       "</style>\n",
       "<table border=\"1\" class=\"dataframe\">\n",
       "  <thead>\n",
       "    <tr style=\"text-align: right;\">\n",
       "      <th></th>\n",
       "      <th>gender</th>\n",
       "      <th>age</th>\n",
       "      <th>topic</th>\n",
       "      <th>sign</th>\n",
       "      <th>text</th>\n",
       "      <th>clean_data</th>\n",
       "      <th>labels</th>\n",
       "    </tr>\n",
       "  </thead>\n",
       "  <tbody>\n",
       "    <tr>\n",
       "      <th>0</th>\n",
       "      <td>male</td>\n",
       "      <td>15</td>\n",
       "      <td>Student</td>\n",
       "      <td>Leo</td>\n",
       "      <td>Info has been found (+/- 100 pages,...</td>\n",
       "      <td>info found pages mb pdf files wait untill team...</td>\n",
       "      <td>[male, 15, Student, Leo]</td>\n",
       "    </tr>\n",
       "    <tr>\n",
       "      <th>1</th>\n",
       "      <td>male</td>\n",
       "      <td>15</td>\n",
       "      <td>Student</td>\n",
       "      <td>Leo</td>\n",
       "      <td>These are the team members:   Drewe...</td>\n",
       "      <td>team members drewes van der laag urllink mail ...</td>\n",
       "      <td>[male, 15, Student, Leo]</td>\n",
       "    </tr>\n",
       "    <tr>\n",
       "      <th>2</th>\n",
       "      <td>male</td>\n",
       "      <td>15</td>\n",
       "      <td>Student</td>\n",
       "      <td>Leo</td>\n",
       "      <td>In het kader van kernfusie op aarde...</td>\n",
       "      <td>het kader van kernfusie op aarde maak je eigen...</td>\n",
       "      <td>[male, 15, Student, Leo]</td>\n",
       "    </tr>\n",
       "    <tr>\n",
       "      <th>3</th>\n",
       "      <td>male</td>\n",
       "      <td>15</td>\n",
       "      <td>Student</td>\n",
       "      <td>Leo</td>\n",
       "      <td>testing!!!  testing!!!</td>\n",
       "      <td>testing testing</td>\n",
       "      <td>[male, 15, Student, Leo]</td>\n",
       "    </tr>\n",
       "    <tr>\n",
       "      <th>4</th>\n",
       "      <td>male</td>\n",
       "      <td>33</td>\n",
       "      <td>InvestmentBanking</td>\n",
       "      <td>Aquarius</td>\n",
       "      <td>Thanks to Yahoo!'s Toolbar I can ...</td>\n",
       "      <td>thanks yahoo toolbar capture urls popups means...</td>\n",
       "      <td>[male, 33, InvestmentBanking, Aquarius]</td>\n",
       "    </tr>\n",
       "  </tbody>\n",
       "</table>\n",
       "</div>"
      ],
      "text/plain": [
       "  gender age              topic      sign  \\\n",
       "0   male  15            Student       Leo   \n",
       "1   male  15            Student       Leo   \n",
       "2   male  15            Student       Leo   \n",
       "3   male  15            Student       Leo   \n",
       "4   male  33  InvestmentBanking  Aquarius   \n",
       "\n",
       "                                                text  \\\n",
       "0             Info has been found (+/- 100 pages,...   \n",
       "1             These are the team members:   Drewe...   \n",
       "2             In het kader van kernfusie op aarde...   \n",
       "3                   testing!!!  testing!!!             \n",
       "4               Thanks to Yahoo!'s Toolbar I can ...   \n",
       "\n",
       "                                          clean_data  \\\n",
       "0  info found pages mb pdf files wait untill team...   \n",
       "1  team members drewes van der laag urllink mail ...   \n",
       "2  het kader van kernfusie op aarde maak je eigen...   \n",
       "3                                    testing testing   \n",
       "4  thanks yahoo toolbar capture urls popups means...   \n",
       "\n",
       "                                    labels  \n",
       "0                 [male, 15, Student, Leo]  \n",
       "1                 [male, 15, Student, Leo]  \n",
       "2                 [male, 15, Student, Leo]  \n",
       "3                 [male, 15, Student, Leo]  \n",
       "4  [male, 33, InvestmentBanking, Aquarius]  "
      ]
     },
     "execution_count": 23,
     "metadata": {},
     "output_type": "execute_result"
    }
   ],
   "source": [
    "# look at data set post merging cols\n",
    "data.head()"
   ]
  },
  {
   "cell_type": "code",
   "execution_count": 24,
   "metadata": {},
   "outputs": [],
   "source": [
    "# retain data set with two pre-processed columns \n",
    "data=data[['clean_data','labels']]"
   ]
  },
  {
   "cell_type": "code",
   "execution_count": 25,
   "metadata": {},
   "outputs": [
    {
     "data": {
      "text/html": [
       "<div>\n",
       "<style scoped>\n",
       "    .dataframe tbody tr th:only-of-type {\n",
       "        vertical-align: middle;\n",
       "    }\n",
       "\n",
       "    .dataframe tbody tr th {\n",
       "        vertical-align: top;\n",
       "    }\n",
       "\n",
       "    .dataframe thead th {\n",
       "        text-align: right;\n",
       "    }\n",
       "</style>\n",
       "<table border=\"1\" class=\"dataframe\">\n",
       "  <thead>\n",
       "    <tr style=\"text-align: right;\">\n",
       "      <th></th>\n",
       "      <th>clean_data</th>\n",
       "      <th>labels</th>\n",
       "    </tr>\n",
       "  </thead>\n",
       "  <tbody>\n",
       "    <tr>\n",
       "      <th>0</th>\n",
       "      <td>info found pages mb pdf files wait untill team...</td>\n",
       "      <td>[male, 15, Student, Leo]</td>\n",
       "    </tr>\n",
       "    <tr>\n",
       "      <th>1</th>\n",
       "      <td>team members drewes van der laag urllink mail ...</td>\n",
       "      <td>[male, 15, Student, Leo]</td>\n",
       "    </tr>\n",
       "    <tr>\n",
       "      <th>2</th>\n",
       "      <td>het kader van kernfusie op aarde maak je eigen...</td>\n",
       "      <td>[male, 15, Student, Leo]</td>\n",
       "    </tr>\n",
       "    <tr>\n",
       "      <th>3</th>\n",
       "      <td>testing testing</td>\n",
       "      <td>[male, 15, Student, Leo]</td>\n",
       "    </tr>\n",
       "    <tr>\n",
       "      <th>4</th>\n",
       "      <td>thanks yahoo toolbar capture urls popups means...</td>\n",
       "      <td>[male, 33, InvestmentBanking, Aquarius]</td>\n",
       "    </tr>\n",
       "  </tbody>\n",
       "</table>\n",
       "</div>"
      ],
      "text/plain": [
       "                                          clean_data  \\\n",
       "0  info found pages mb pdf files wait untill team...   \n",
       "1  team members drewes van der laag urllink mail ...   \n",
       "2  het kader van kernfusie op aarde maak je eigen...   \n",
       "3                                    testing testing   \n",
       "4  thanks yahoo toolbar capture urls popups means...   \n",
       "\n",
       "                                    labels  \n",
       "0                 [male, 15, Student, Leo]  \n",
       "1                 [male, 15, Student, Leo]  \n",
       "2                 [male, 15, Student, Leo]  \n",
       "3                 [male, 15, Student, Leo]  \n",
       "4  [male, 33, InvestmentBanking, Aquarius]  "
      ]
     },
     "execution_count": 25,
     "metadata": {},
     "output_type": "execute_result"
    }
   ],
   "source": [
    "data.head()"
   ]
  },
  {
   "cell_type": "markdown",
   "metadata": {},
   "source": [
    "# Splitting the data into X and Y"
   ]
  },
  {
   "cell_type": "code",
   "execution_count": 26,
   "metadata": {},
   "outputs": [],
   "source": [
    "X=data['clean_data']"
   ]
  },
  {
   "cell_type": "code",
   "execution_count": 27,
   "metadata": {},
   "outputs": [],
   "source": [
    "Y=data['labels']"
   ]
  },
  {
   "cell_type": "markdown",
   "metadata": {},
   "source": [
    "perform count vectorizer with bi-grams and tri-grams to get the count vectors of the X data"
   ]
  },
  {
   "cell_type": "code",
   "execution_count": 28,
   "metadata": {},
   "outputs": [],
   "source": [
    "from sklearn.feature_extraction.text import CountVectorizer"
   ]
  },
  {
   "cell_type": "code",
   "execution_count": 29,
   "metadata": {},
   "outputs": [],
   "source": [
    "vectorizer=CountVectorizer(binary=True, ngram_range=(1,2))"
   ]
  },
  {
   "cell_type": "code",
   "execution_count": 30,
   "metadata": {},
   "outputs": [],
   "source": [
    "X=vectorizer.fit_transform(X)"
   ]
  },
  {
   "cell_type": "code",
   "execution_count": 31,
   "metadata": {},
   "outputs": [
    {
     "data": {
      "text/plain": [
       "<1x963236 sparse matrix of type '<class 'numpy.int64'>'\n",
       "\twith 25 stored elements in Compressed Sparse Row format>"
      ]
     },
     "execution_count": 31,
     "metadata": {},
     "output_type": "execute_result"
    }
   ],
   "source": [
    "X[1]"
   ]
  },
  {
   "cell_type": "code",
   "execution_count": 32,
   "metadata": {},
   "outputs": [
    {
     "data": {
      "text/plain": [
       "['aa', 'aa advert', 'aa amazing', 'aa anger', 'aa batteries', 'aa compared']"
      ]
     },
     "execution_count": 32,
     "metadata": {},
     "output_type": "execute_result"
    }
   ],
   "source": [
    "# check feature names post vectorization\n",
    "vectorizer.get_feature_names()[:6]"
   ]
  },
  {
   "cell_type": "code",
   "execution_count": 33,
   "metadata": {},
   "outputs": [],
   "source": [
    "label_counts=dict()\n",
    "\n",
    "for labels in data.labels.values:\n",
    "    for label in labels:\n",
    "        if label in label_counts:\n",
    "            label_counts[label]+=1\n",
    "        else:\n",
    "            label_counts[label]=1"
   ]
  },
  {
   "cell_type": "code",
   "execution_count": 34,
   "metadata": {},
   "outputs": [
    {
     "data": {
      "text/plain": [
       "{'male': 8550,\n",
       " '15': 771,\n",
       " 'Student': 1680,\n",
       " 'Leo': 880,\n",
       " '33': 427,\n",
       " 'InvestmentBanking': 70,\n",
       " 'Aquarius': 941,\n",
       " 'female': 6450,\n",
       " '14': 309,\n",
       " 'indUnk': 5511,\n",
       " 'Aries': 4732,\n",
       " '25': 1021,\n",
       " 'Capricorn': 596,\n",
       " '17': 1705,\n",
       " 'Gemini': 412,\n",
       " '23': 1540,\n",
       " 'Non-Profit': 150,\n",
       " 'Cancer': 1132,\n",
       " 'Banking': 61,\n",
       " '37': 37,\n",
       " 'Sagittarius': 1589,\n",
       " '26': 420,\n",
       " '24': 1330,\n",
       " 'Scorpio': 1232,\n",
       " '27': 1480,\n",
       " 'Education': 609,\n",
       " '45': 38,\n",
       " 'Engineering': 330,\n",
       " 'Libra': 705,\n",
       " 'Science': 78,\n",
       " '34': 827,\n",
       " '41': 46,\n",
       " 'Communications-Media': 99,\n",
       " 'BusinessServices': 148,\n",
       " 'Sports-Recreation': 80,\n",
       " 'Virgo': 615,\n",
       " 'Taurus': 1019,\n",
       " 'Arts': 289,\n",
       " 'Pisces': 1147,\n",
       " '44': 3,\n",
       " '16': 670,\n",
       " 'Internet': 652,\n",
       " 'Museums-Libraries': 66,\n",
       " 'Accounting': 35,\n",
       " '39': 102,\n",
       " '35': 2357,\n",
       " 'Technology': 2802,\n",
       " '36': 1722,\n",
       " 'Law': 44,\n",
       " '46': 17,\n",
       " 'Consulting': 57,\n",
       " 'Automotive': 14,\n",
       " '42': 25,\n",
       " 'Religion': 28,\n",
       " '13': 92,\n",
       " 'Fashion': 1622,\n",
       " '38': 46,\n",
       " '43': 6,\n",
       " 'Publishing': 67,\n",
       " '40': 1,\n",
       " 'Marketing': 207,\n",
       " 'LawEnforcement-Security': 46,\n",
       " 'HumanResources': 2,\n",
       " 'Telecommunications': 7,\n",
       " 'Military': 19,\n",
       " 'Government': 85,\n",
       " 'Transportation': 46,\n",
       " 'Architecture': 45,\n",
       " 'Advertising': 5,\n",
       " '47': 8,\n",
       " 'Agriculture': 46}"
      ]
     },
     "execution_count": 34,
     "metadata": {},
     "output_type": "execute_result"
    }
   ],
   "source": [
    "label_counts"
   ]
  },
  {
   "cell_type": "markdown",
   "metadata": {},
   "source": [
    "# Pre-processing the labels"
   ]
  },
  {
   "cell_type": "code",
   "execution_count": 35,
   "metadata": {},
   "outputs": [],
   "source": [
    "from sklearn.preprocessing import MultiLabelBinarizer\n",
    "binarizer=MultiLabelBinarizer(classes=sorted(label_counts.keys()))"
   ]
  },
  {
   "cell_type": "code",
   "execution_count": 36,
   "metadata": {},
   "outputs": [],
   "source": [
    "Y=binarizer.fit_transform(data.labels)"
   ]
  },
  {
   "cell_type": "markdown",
   "metadata": {},
   "source": [
    "# Splitting the data into 80% Train set :20% Test set"
   ]
  },
  {
   "cell_type": "code",
   "execution_count": 37,
   "metadata": {},
   "outputs": [],
   "source": [
    "from sklearn.model_selection import train_test_split"
   ]
  },
  {
   "cell_type": "code",
   "execution_count": 38,
   "metadata": {},
   "outputs": [],
   "source": [
    "Xtrain,Xtest,Ytrain,Ytest=train_test_split(X,Y,random_state=2,test_size = 0.2)"
   ]
  },
  {
   "cell_type": "code",
   "execution_count": 39,
   "metadata": {},
   "outputs": [
    {
     "name": "stdout",
     "output_type": "stream",
     "text": [
      "(12000, 963236)\n",
      "(12000, 71)\n"
     ]
    }
   ],
   "source": [
    "print(Xtrain.shape)\n",
    "print(Ytrain.shape)"
   ]
  },
  {
   "cell_type": "code",
   "execution_count": 40,
   "metadata": {},
   "outputs": [
    {
     "name": "stdout",
     "output_type": "stream",
     "text": [
      "(3000, 963236)\n",
      "(3000, 71)\n"
     ]
    }
   ],
   "source": [
    "print(Xtest.shape)\n",
    "print(Ytest.shape)"
   ]
  },
  {
   "cell_type": "code",
   "execution_count": 41,
   "metadata": {},
   "outputs": [],
   "source": [
    "from sklearn.multiclass import OneVsRestClassifier\n",
    "from sklearn.linear_model import LogisticRegression"
   ]
  },
  {
   "cell_type": "markdown",
   "metadata": {},
   "source": [
    "# Building classification model"
   ]
  },
  {
   "cell_type": "code",
   "execution_count": 42,
   "metadata": {},
   "outputs": [],
   "source": [
    "model=LogisticRegression(solver='lbfgs')"
   ]
  },
  {
   "cell_type": "code",
   "execution_count": 43,
   "metadata": {},
   "outputs": [],
   "source": [
    "model=OneVsRestClassifier(model)"
   ]
  },
  {
   "cell_type": "code",
   "execution_count": 44,
   "metadata": {},
   "outputs": [
    {
     "name": "stderr",
     "output_type": "stream",
     "text": [
      "C:\\Users\\Shivang Shrivastav\\AppData\\Roaming\\Python\\Python37\\site-packages\\sklearn\\linear_model\\_logistic.py:762: ConvergenceWarning: lbfgs failed to converge (status=1):\n",
      "STOP: TOTAL NO. of ITERATIONS REACHED LIMIT.\n",
      "\n",
      "Increase the number of iterations (max_iter) or scale the data as shown in:\n",
      "    https://scikit-learn.org/stable/modules/preprocessing.html\n",
      "Please also refer to the documentation for alternative solver options:\n",
      "    https://scikit-learn.org/stable/modules/linear_model.html#logistic-regression\n",
      "  extra_warning_msg=_LOGISTIC_SOLVER_CONVERGENCE_MSG)\n"
     ]
    },
    {
     "data": {
      "text/plain": [
       "OneVsRestClassifier(estimator=LogisticRegression())"
      ]
     },
     "execution_count": 44,
     "metadata": {},
     "output_type": "execute_result"
    }
   ],
   "source": [
    "model.fit(Xtrain,Ytrain)"
   ]
  },
  {
   "cell_type": "code",
   "execution_count": 45,
   "metadata": {},
   "outputs": [],
   "source": [
    "Ypred=model.predict(Xtest)"
   ]
  },
  {
   "cell_type": "code",
   "execution_count": 46,
   "metadata": {},
   "outputs": [],
   "source": [
    "Ypred_inversed = binarizer.inverse_transform(Ypred)\n",
    "y_test_inversed = binarizer.inverse_transform(Ytest)"
   ]
  },
  {
   "cell_type": "markdown",
   "metadata": {},
   "source": [
    "# Printing True vs Predicted label"
   ]
  },
  {
   "cell_type": "code",
   "execution_count": 47,
   "metadata": {},
   "outputs": [
    {
     "name": "stdout",
     "output_type": "stream",
     "text": [
      "Text:\t  (0, 889281)\t1\n",
      "  (0, 676067)\t1\n",
      "  (0, 846198)\t1\n",
      "  (0, 310077)\t1\n",
      "  (0, 895223)\t1\n",
      "  (0, 111781)\t1\n",
      "  (0, 878019)\t1\n",
      "  (0, 586707)\t1\n",
      "  (0, 861450)\t1\n",
      "  (0, 179818)\t1\n",
      "  (0, 56954)\t1\n",
      "  (0, 577209)\t1\n",
      "  (0, 936620)\t1\n",
      "  (0, 296328)\t1\n",
      "  (0, 941721)\t1\n",
      "  (0, 828715)\t1\n",
      "  (0, 630358)\t1\n",
      "  (0, 307451)\t1\n",
      "  (0, 663459)\t1\n",
      "  (0, 721346)\t1\n",
      "  (0, 901777)\t1\n",
      "  (0, 320534)\t1\n",
      "  (0, 193214)\t1\n",
      "  (0, 818017)\t1\n",
      "  (0, 321218)\t1\n",
      "  :\t:\n",
      "  (0, 163234)\t1\n",
      "  (0, 307662)\t1\n",
      "  (0, 848941)\t1\n",
      "  (0, 321253)\t1\n",
      "  (0, 468278)\t1\n",
      "  (0, 160228)\t1\n",
      "  (0, 321443)\t1\n",
      "  (0, 475574)\t1\n",
      "  (0, 320181)\t1\n",
      "  (0, 830161)\t1\n",
      "  (0, 212395)\t1\n",
      "  (0, 546637)\t1\n",
      "  (0, 506279)\t1\n",
      "  (0, 448766)\t1\n",
      "  (0, 194974)\t1\n",
      "  (0, 895748)\t1\n",
      "  (0, 721451)\t1\n",
      "  (0, 103184)\t1\n",
      "  (0, 570066)\t1\n",
      "  (0, 417004)\t1\n",
      "  (0, 64902)\t1\n",
      "  (0, 439964)\t1\n",
      "  (0, 321206)\t1\n",
      "  (0, 58893)\t1\n",
      "  (0, 141207)\t1\n",
      "True labels:\t36,Aries,Fashion,male\n",
      "Predicted labels:\t36,Aries,Fashion,male\n",
      "\n",
      "\n",
      "Text:\t  (0, 370678)\t1\n",
      "  (0, 29374)\t1\n",
      "  (0, 427433)\t1\n",
      "  (0, 370696)\t1\n",
      "  (0, 29403)\t1\n",
      "True labels:\t35,Aries,Technology,male\n",
      "Predicted labels:\tAries,male\n",
      "\n",
      "\n",
      "Text:\t  (0, 345923)\t1\n",
      "  (0, 81834)\t1\n",
      "  (0, 21577)\t1\n",
      "  (0, 943230)\t1\n",
      "  (0, 780836)\t1\n",
      "  (0, 926681)\t1\n",
      "  (0, 213083)\t1\n",
      "  (0, 855132)\t1\n",
      "  (0, 708539)\t1\n",
      "  (0, 84600)\t1\n",
      "  (0, 213228)\t1\n",
      "  (0, 927038)\t1\n",
      "  (0, 390278)\t1\n",
      "  (0, 82130)\t1\n",
      "  (0, 943478)\t1\n",
      "  (0, 780845)\t1\n",
      "  (0, 667649)\t1\n",
      "  (0, 21706)\t1\n",
      "  (0, 855756)\t1\n",
      "  (0, 390309)\t1\n",
      "  (0, 667652)\t1\n",
      "  (0, 82160)\t1\n",
      "  (0, 347368)\t1\n",
      "  (0, 708548)\t1\n",
      "True labels:\t26,Scorpio,Technology,male\n",
      "Predicted labels:\tmale\n",
      "\n",
      "\n",
      "Text:\t  (0, 471178)\t1\n",
      "  (0, 502877)\t1\n",
      "  (0, 368919)\t1\n",
      "  (0, 41521)\t1\n",
      "  (0, 563855)\t1\n",
      "  (0, 343211)\t1\n",
      "  (0, 726307)\t1\n",
      "  (0, 259760)\t1\n",
      "  (0, 731637)\t1\n",
      "  (0, 617842)\t1\n",
      "  (0, 633661)\t1\n",
      "  (0, 796024)\t1\n",
      "  (0, 129401)\t1\n",
      "  (0, 710705)\t1\n",
      "  (0, 86363)\t1\n",
      "  (0, 532847)\t1\n",
      "  (0, 456528)\t1\n",
      "  (0, 183300)\t1\n",
      "  (0, 522102)\t1\n",
      "  (0, 361949)\t1\n",
      "  (0, 846094)\t1\n",
      "  (0, 456883)\t1\n",
      "  (0, 502989)\t1\n",
      "  (0, 377254)\t1\n",
      "  (0, 485415)\t1\n",
      "  :\t:\n",
      "  (0, 533193)\t1\n",
      "  (0, 792282)\t1\n",
      "  (0, 712735)\t1\n",
      "  (0, 731674)\t1\n",
      "  (0, 55545)\t1\n",
      "  (0, 105103)\t1\n",
      "  (0, 657816)\t1\n",
      "  (0, 846113)\t1\n",
      "  (0, 86816)\t1\n",
      "  (0, 485649)\t1\n",
      "  (0, 712059)\t1\n",
      "  (0, 932118)\t1\n",
      "  (0, 633751)\t1\n",
      "  (0, 318344)\t1\n",
      "  (0, 260474)\t1\n",
      "  (0, 815824)\t1\n",
      "  (0, 726609)\t1\n",
      "  (0, 726647)\t1\n",
      "  (0, 456955)\t1\n",
      "  (0, 361956)\t1\n",
      "  (0, 456604)\t1\n",
      "  (0, 369007)\t1\n",
      "  (0, 183374)\t1\n",
      "  (0, 344157)\t1\n",
      "  (0, 522192)\t1\n",
      "True labels:\t17,Leo,Student,female\n",
      "Predicted labels:\tfemale,indUnk\n",
      "\n",
      "\n",
      "Text:\t  (0, 397445)\t1\n",
      "  (0, 889281)\t1\n",
      "  (0, 613468)\t1\n",
      "  (0, 417944)\t1\n",
      "  (0, 410522)\t1\n",
      "  (0, 442277)\t1\n",
      "  (0, 952830)\t1\n",
      "  (0, 865281)\t1\n",
      "  (0, 410533)\t1\n",
      "  (0, 278531)\t1\n",
      "  (0, 681277)\t1\n",
      "  (0, 528194)\t1\n",
      "  (0, 442441)\t1\n",
      "  (0, 397416)\t1\n",
      "  (0, 201326)\t1\n",
      "  (0, 418139)\t1\n",
      "  (0, 397420)\t1\n",
      "  (0, 892319)\t1\n",
      "  (0, 865291)\t1\n",
      "  (0, 952903)\t1\n",
      "  (0, 201327)\t1\n",
      "  (0, 528197)\t1\n",
      "  (0, 278533)\t1\n",
      "  (0, 397501)\t1\n",
      "  (0, 614900)\t1\n",
      "True labels:\t35,Aries,Technology,male\n",
      "Predicted labels:\tmale\n",
      "\n",
      "\n"
     ]
    }
   ],
   "source": [
    "for i in range(5):\n",
    "    print('Text:\\t{}\\nTrue labels:\\t{}\\nPredicted labels:\\t{}\\n\\n'.format(\n",
    "        Xtest[i],\n",
    "        ','.join(y_test_inversed[i]),\n",
    "        ','.join(Ypred_inversed[i])\n",
    "    ))"
   ]
  },
  {
   "cell_type": "code",
   "execution_count": 48,
   "metadata": {},
   "outputs": [],
   "source": [
    "from sklearn.metrics import accuracy_score\n",
    "from sklearn.metrics import f1_score\n",
    "from sklearn.metrics import average_precision_score\n",
    "from sklearn.metrics import recall_score\n",
    "\n",
    "def print_evaluation_scores_micro(Ytest, Ypred):\n",
    "    print('Accuracy score: ', accuracy_score(Ytest, Ypred))\n",
    "    print('F1 score: ', f1_score(Ytest, Ypred, average='micro'))\n",
    "    print('Average precision score: ', average_precision_score(Ytest, Ypred, average='micro'))\n",
    "    print('Average recall score: ', recall_score(Ytest, Ypred, average='micro'))"
   ]
  },
  {
   "cell_type": "code",
   "execution_count": 50,
   "metadata": {},
   "outputs": [
    {
     "name": "stdout",
     "output_type": "stream",
     "text": [
      "Accuracy score:  0.22433333333333333\n",
      "F1 score:  0.5760196455263721\n",
      "Average precision score:  0.3913038167856416\n",
      "Average recall score:  0.44958333333333333\n"
     ]
    }
   ],
   "source": [
    "print_evaluation_scores_micro(Ytest, Ypred)"
   ]
  },
  {
   "cell_type": "code",
   "execution_count": 51,
   "metadata": {},
   "outputs": [],
   "source": [
    "def print_evaluation_scores_macro(Ytest, Ypred):\n",
    "    print('Accuracy score: ', accuracy_score(Ytest, Ypred))\n",
    "    print('F1 score: ', f1_score(Ytest, Ypred, average='macro'))\n",
    "    print('Average precision score: ', average_precision_score(Ytest, Ypred, average='macro'))\n",
    "    print('Average recall score: ', recall_score(Ytest, Ypred, average='macro'))"
   ]
  },
  {
   "cell_type": "code",
   "execution_count": 52,
   "metadata": {},
   "outputs": [
    {
     "name": "stdout",
     "output_type": "stream",
     "text": [
      "Accuracy score:  0.22433333333333333\n",
      "F1 score:  0.21039969126517238\n"
     ]
    },
    {
     "name": "stderr",
     "output_type": "stream",
     "text": [
      "C:\\Users\\Shivang Shrivastav\\AppData\\Roaming\\Python\\Python37\\site-packages\\sklearn\\metrics\\_classification.py:1465: UndefinedMetricWarning: F-score is ill-defined and being set to 0.0 in labels with no true nor predicted samples. Use `zero_division` parameter to control this behavior.\n",
      "  average, \"true nor predicted\", 'F-score is', len(true_sum)\n",
      "C:\\Users\\Shivang Shrivastav\\AppData\\Roaming\\Python\\Python37\\site-packages\\sklearn\\metrics\\_ranking.py:681: RuntimeWarning: invalid value encountered in true_divide\n",
      "  recall = tps / tps[-1]\n"
     ]
    },
    {
     "name": "stdout",
     "output_type": "stream",
     "text": [
      "Average precision score:  nan\n",
      "Average recall score:  0.15171486746160326\n"
     ]
    },
    {
     "name": "stderr",
     "output_type": "stream",
     "text": [
      "C:\\Users\\Shivang Shrivastav\\AppData\\Roaming\\Python\\Python37\\site-packages\\sklearn\\metrics\\_classification.py:1221: UndefinedMetricWarning: Recall is ill-defined and being set to 0.0 in labels with no true samples. Use `zero_division` parameter to control this behavior.\n",
      "  _warn_prf(average, modifier, msg_start, len(result))\n"
     ]
    }
   ],
   "source": [
    "print_evaluation_scores_macro(Ytest, Ypred)"
   ]
  },
  {
   "cell_type": "code",
   "execution_count": 53,
   "metadata": {},
   "outputs": [],
   "source": [
    "def print_evaluation_scores_weighted(Ytest, Ypred):\n",
    "    print('Accuracy score: ', accuracy_score(Ytest, Ypred))\n",
    "    print('F1 score: ', f1_score(Ytest, Ypred, average='weighted'))\n",
    "    print('Average precision score: ', average_precision_score(Ytest, Ypred, average='weighted'))\n",
    "    print('Average recall score: ', recall_score(Ytest, Ypred, average='weighted'))"
   ]
  },
  {
   "cell_type": "code",
   "execution_count": 54,
   "metadata": {},
   "outputs": [
    {
     "name": "stdout",
     "output_type": "stream",
     "text": [
      "Accuracy score:  0.22433333333333333\n",
      "F1 score:  0.5263279598664317\n",
      "Average precision score:  0.4478216414818515\n",
      "Average recall score:  0.44958333333333333\n"
     ]
    },
    {
     "name": "stderr",
     "output_type": "stream",
     "text": [
      "C:\\Users\\Shivang Shrivastav\\AppData\\Roaming\\Python\\Python37\\site-packages\\sklearn\\metrics\\_classification.py:1465: UndefinedMetricWarning: F-score is ill-defined and being set to 0.0 in labels with no true nor predicted samples. Use `zero_division` parameter to control this behavior.\n",
      "  average, \"true nor predicted\", 'F-score is', len(true_sum)\n",
      "C:\\Users\\Shivang Shrivastav\\AppData\\Roaming\\Python\\Python37\\site-packages\\sklearn\\metrics\\_ranking.py:681: RuntimeWarning: invalid value encountered in true_divide\n",
      "  recall = tps / tps[-1]\n",
      "C:\\Users\\Shivang Shrivastav\\AppData\\Roaming\\Python\\Python37\\site-packages\\sklearn\\metrics\\_classification.py:1221: UndefinedMetricWarning: Recall is ill-defined and being set to 0.0 in labels with no true samples. Use `zero_division` parameter to control this behavior.\n",
      "  _warn_prf(average, modifier, msg_start, len(result))\n"
     ]
    }
   ],
   "source": [
    "print_evaluation_scores_weighted(Ytest, Ypred)"
   ]
  },
  {
   "cell_type": "markdown",
   "metadata": {},
   "source": [
    "# Print true label and predicted label for any five examples"
   ]
  },
  {
   "cell_type": "code",
   "execution_count": 55,
   "metadata": {},
   "outputs": [
    {
     "data": {
      "text/plain": [
       "[('36', 'Aries', 'Fashion', 'male'),\n",
       " ('35', 'Aries', 'Technology', 'male'),\n",
       " ('26', 'Scorpio', 'Technology', 'male'),\n",
       " ('17', 'Leo', 'Student', 'female'),\n",
       " ('35', 'Aries', 'Technology', 'male'),\n",
       " ('17', 'Leo', 'female', 'indUnk'),\n",
       " ('17', 'Scorpio', 'female', 'indUnk'),\n",
       " ('16', 'Taurus', 'female', 'indUnk'),\n",
       " ('14', 'Sagittarius', 'indUnk', 'male'),\n",
       " ('36', 'Aries', 'Fashion', 'male'),\n",
       " ('17', 'Arts', 'Leo', 'female'),\n",
       " ('35', 'Aries', 'Technology', 'male'),\n",
       " ('15', 'Pisces', 'Student', 'female'),\n",
       " ('14', 'Sagittarius', 'indUnk', 'male'),\n",
       " ('15', 'Libra', 'Student', 'female')]"
      ]
     },
     "execution_count": 55,
     "metadata": {},
     "output_type": "execute_result"
    }
   ],
   "source": [
    "preds = Ypred[:15]\n",
    "actuals = Ytest[:15]\n",
    "\n",
    "five_actual = binarizer.inverse_transform(actuals)\n",
    "five_actual"
   ]
  },
  {
   "cell_type": "code",
   "execution_count": 56,
   "metadata": {},
   "outputs": [
    {
     "data": {
      "text/plain": [
       "[('36', 'Aries', 'Fashion', 'male'),\n",
       " ('Aries', 'male'),\n",
       " ('male',),\n",
       " ('female', 'indUnk'),\n",
       " ('male',),\n",
       " ('male',),\n",
       " ('female', 'indUnk'),\n",
       " ('16', 'Student', 'female'),\n",
       " ('indUnk', 'male'),\n",
       " ('male',),\n",
       " ('female',),\n",
       " ('35', 'Aries', 'Technology', 'male'),\n",
       " ('male',),\n",
       " ('male',),\n",
       " ('Aries', 'Libra', 'male')]"
      ]
     },
     "execution_count": 56,
     "metadata": {},
     "output_type": "execute_result"
    }
   ],
   "source": [
    "five_pred = binarizer.inverse_transform(preds)\n",
    "five_pred"
   ]
  },
  {
   "cell_type": "markdown",
   "metadata": {},
   "source": [
    "# Print true label and predicted label for any five examples"
   ]
  },
  {
   "cell_type": "code",
   "execution_count": 57,
   "metadata": {},
   "outputs": [
    {
     "name": "stdout",
     "output_type": "stream",
     "text": [
      "('Technology', 'male')\n",
      "('27', 'Taurus', 'female', 'indUnk')\n"
     ]
    }
   ],
   "source": [
    "print(binarizer.inverse_transform(Ypred)[777])\n",
    "print(binarizer.inverse_transform(Ytest)[777])"
   ]
  },
  {
   "cell_type": "code",
   "execution_count": 58,
   "metadata": {},
   "outputs": [
    {
     "name": "stdout",
     "output_type": "stream",
     "text": [
      "('27', 'female', 'indUnk')\n",
      "('24', 'Scorpio', 'female', 'indUnk')\n"
     ]
    }
   ],
   "source": [
    "print(binarizer.inverse_transform(Ypred)[614])\n",
    "print(binarizer.inverse_transform(Ytest)[614])"
   ]
  },
  {
   "cell_type": "code",
   "execution_count": 59,
   "metadata": {},
   "outputs": [
    {
     "name": "stdout",
     "output_type": "stream",
     "text": [
      "('female',)\n",
      "('16', 'Aries', 'Student', 'female')\n"
     ]
    }
   ],
   "source": [
    "print(binarizer.inverse_transform(Ypred)[199])\n",
    "print(binarizer.inverse_transform(Ytest)[199])"
   ]
  },
  {
   "cell_type": "code",
   "execution_count": 60,
   "metadata": {},
   "outputs": [
    {
     "name": "stdout",
     "output_type": "stream",
     "text": [
      "('Aries', 'male')\n",
      "('35', 'Aries', 'Technology', 'male')\n"
     ]
    }
   ],
   "source": [
    "print(binarizer.inverse_transform(Ypred)[420])\n",
    "print(binarizer.inverse_transform(Ytest)[420])"
   ]
  },
  {
   "cell_type": "code",
   "execution_count": 61,
   "metadata": {},
   "outputs": [
    {
     "name": "stdout",
     "output_type": "stream",
     "text": [
      "('male',)\n",
      "('23', 'Arts', 'Capricorn', 'female')\n"
     ]
    }
   ],
   "source": [
    "print(binarizer.inverse_transform(Ypred)[600])\n",
    "print(binarizer.inverse_transform(Ytest)[600])"
   ]
  },
  {
   "cell_type": "markdown",
   "metadata": {},
   "source": [
    "# Print true label and predicted label for any five examples"
   ]
  },
  {
   "cell_type": "code",
   "execution_count": 62,
   "metadata": {},
   "outputs": [
    {
     "name": "stdout",
     "output_type": "stream",
     "text": [
      "[2354, 1523, 1709, 412, 2033]\n",
      "('male',)\n",
      "('35', 'Aries', 'Technology', 'male')\n",
      "('36', 'Aries', 'Fashion', 'male')\n",
      "('36', 'Aries', 'Fashion', 'male')\n",
      "('Cancer', 'female', 'indUnk')\n",
      "('25', 'Aquarius', 'female', 'indUnk')\n",
      "('Scorpio', 'female')\n",
      "('17', 'Scorpio', 'female', 'indUnk')\n",
      "('male',)\n",
      "('45', 'Sagittarius', 'female', 'indUnk')\n"
     ]
    }
   ],
   "source": [
    "import random\n",
    "j=[]\n",
    "for i in range(5):\n",
    " j.append(random.randint(300,len(Ypred)))\n",
    "\n",
    "print(j)\n",
    "for k in j:\n",
    " print(binarizer.inverse_transform(Ypred)[k])\n",
    " print(binarizer.inverse_transform(Ytest)[k])"
   ]
  },
  {
   "cell_type": "code",
   "execution_count": 63,
   "metadata": {},
   "outputs": [
    {
     "name": "stdout",
     "output_type": "stream",
     "text": [
      "Text:\t  (0, 889281)\t1\n",
      "  (0, 676067)\t1\n",
      "  (0, 846198)\t1\n",
      "  (0, 310077)\t1\n",
      "  (0, 895223)\t1\n",
      "  (0, 111781)\t1\n",
      "  (0, 878019)\t1\n",
      "  (0, 586707)\t1\n",
      "  (0, 861450)\t1\n",
      "  (0, 179818)\t1\n",
      "  (0, 56954)\t1\n",
      "  (0, 577209)\t1\n",
      "  (0, 936620)\t1\n",
      "  (0, 296328)\t1\n",
      "  (0, 941721)\t1\n",
      "  (0, 828715)\t1\n",
      "  (0, 630358)\t1\n",
      "  (0, 307451)\t1\n",
      "  (0, 663459)\t1\n",
      "  (0, 721346)\t1\n",
      "  (0, 901777)\t1\n",
      "  (0, 320534)\t1\n",
      "  (0, 193214)\t1\n",
      "  (0, 818017)\t1\n",
      "  (0, 321218)\t1\n",
      "  :\t:\n",
      "  (0, 163234)\t1\n",
      "  (0, 307662)\t1\n",
      "  (0, 848941)\t1\n",
      "  (0, 321253)\t1\n",
      "  (0, 468278)\t1\n",
      "  (0, 160228)\t1\n",
      "  (0, 321443)\t1\n",
      "  (0, 475574)\t1\n",
      "  (0, 320181)\t1\n",
      "  (0, 830161)\t1\n",
      "  (0, 212395)\t1\n",
      "  (0, 546637)\t1\n",
      "  (0, 506279)\t1\n",
      "  (0, 448766)\t1\n",
      "  (0, 194974)\t1\n",
      "  (0, 895748)\t1\n",
      "  (0, 721451)\t1\n",
      "  (0, 103184)\t1\n",
      "  (0, 570066)\t1\n",
      "  (0, 417004)\t1\n",
      "  (0, 64902)\t1\n",
      "  (0, 439964)\t1\n",
      "  (0, 321206)\t1\n",
      "  (0, 58893)\t1\n",
      "  (0, 141207)\t1\n",
      "True labels:\t36,Aries,Fashion,male\n",
      "Predicted labels:\t36,Aries,Fashion,male\n",
      "\n",
      "\n",
      "Text:\t  (0, 370678)\t1\n",
      "  (0, 29374)\t1\n",
      "  (0, 427433)\t1\n",
      "  (0, 370696)\t1\n",
      "  (0, 29403)\t1\n",
      "True labels:\t35,Aries,Technology,male\n",
      "Predicted labels:\tAries,male\n",
      "\n",
      "\n",
      "Text:\t  (0, 345923)\t1\n",
      "  (0, 81834)\t1\n",
      "  (0, 21577)\t1\n",
      "  (0, 943230)\t1\n",
      "  (0, 780836)\t1\n",
      "  (0, 926681)\t1\n",
      "  (0, 213083)\t1\n",
      "  (0, 855132)\t1\n",
      "  (0, 708539)\t1\n",
      "  (0, 84600)\t1\n",
      "  (0, 213228)\t1\n",
      "  (0, 927038)\t1\n",
      "  (0, 390278)\t1\n",
      "  (0, 82130)\t1\n",
      "  (0, 943478)\t1\n",
      "  (0, 780845)\t1\n",
      "  (0, 667649)\t1\n",
      "  (0, 21706)\t1\n",
      "  (0, 855756)\t1\n",
      "  (0, 390309)\t1\n",
      "  (0, 667652)\t1\n",
      "  (0, 82160)\t1\n",
      "  (0, 347368)\t1\n",
      "  (0, 708548)\t1\n",
      "True labels:\t26,Scorpio,Technology,male\n",
      "Predicted labels:\tmale\n",
      "\n",
      "\n",
      "Text:\t  (0, 471178)\t1\n",
      "  (0, 502877)\t1\n",
      "  (0, 368919)\t1\n",
      "  (0, 41521)\t1\n",
      "  (0, 563855)\t1\n",
      "  (0, 343211)\t1\n",
      "  (0, 726307)\t1\n",
      "  (0, 259760)\t1\n",
      "  (0, 731637)\t1\n",
      "  (0, 617842)\t1\n",
      "  (0, 633661)\t1\n",
      "  (0, 796024)\t1\n",
      "  (0, 129401)\t1\n",
      "  (0, 710705)\t1\n",
      "  (0, 86363)\t1\n",
      "  (0, 532847)\t1\n",
      "  (0, 456528)\t1\n",
      "  (0, 183300)\t1\n",
      "  (0, 522102)\t1\n",
      "  (0, 361949)\t1\n",
      "  (0, 846094)\t1\n",
      "  (0, 456883)\t1\n",
      "  (0, 502989)\t1\n",
      "  (0, 377254)\t1\n",
      "  (0, 485415)\t1\n",
      "  :\t:\n",
      "  (0, 533193)\t1\n",
      "  (0, 792282)\t1\n",
      "  (0, 712735)\t1\n",
      "  (0, 731674)\t1\n",
      "  (0, 55545)\t1\n",
      "  (0, 105103)\t1\n",
      "  (0, 657816)\t1\n",
      "  (0, 846113)\t1\n",
      "  (0, 86816)\t1\n",
      "  (0, 485649)\t1\n",
      "  (0, 712059)\t1\n",
      "  (0, 932118)\t1\n",
      "  (0, 633751)\t1\n",
      "  (0, 318344)\t1\n",
      "  (0, 260474)\t1\n",
      "  (0, 815824)\t1\n",
      "  (0, 726609)\t1\n",
      "  (0, 726647)\t1\n",
      "  (0, 456955)\t1\n",
      "  (0, 361956)\t1\n",
      "  (0, 456604)\t1\n",
      "  (0, 369007)\t1\n",
      "  (0, 183374)\t1\n",
      "  (0, 344157)\t1\n",
      "  (0, 522192)\t1\n",
      "True labels:\t17,Leo,Student,female\n",
      "Predicted labels:\tfemale,indUnk\n",
      "\n",
      "\n",
      "Text:\t  (0, 397445)\t1\n",
      "  (0, 889281)\t1\n",
      "  (0, 613468)\t1\n",
      "  (0, 417944)\t1\n",
      "  (0, 410522)\t1\n",
      "  (0, 442277)\t1\n",
      "  (0, 952830)\t1\n",
      "  (0, 865281)\t1\n",
      "  (0, 410533)\t1\n",
      "  (0, 278531)\t1\n",
      "  (0, 681277)\t1\n",
      "  (0, 528194)\t1\n",
      "  (0, 442441)\t1\n",
      "  (0, 397416)\t1\n",
      "  (0, 201326)\t1\n",
      "  (0, 418139)\t1\n",
      "  (0, 397420)\t1\n",
      "  (0, 892319)\t1\n",
      "  (0, 865291)\t1\n",
      "  (0, 952903)\t1\n",
      "  (0, 201327)\t1\n",
      "  (0, 528197)\t1\n",
      "  (0, 278533)\t1\n",
      "  (0, 397501)\t1\n",
      "  (0, 614900)\t1\n",
      "True labels:\t35,Aries,Technology,male\n",
      "Predicted labels:\tmale\n",
      "\n",
      "\n"
     ]
    }
   ],
   "source": [
    "Ypred_inversed = binarizer.inverse_transform(Ypred)\n",
    "Ytest_inversed = binarizer.inverse_transform(Ytest)\n",
    "for i in range(5):\n",
    " print('Text:\\t{}\\nTrue labels:\\t{}\\nPredicted labels:\\t{}\\n\\n'.format(\n",
    " Xtest[i],\n",
    " ','.join(Ytest_inversed[i]),\n",
    " ','.join(Ypred_inversed[i])\n",
    " ))"
   ]
  },
  {
   "cell_type": "code",
   "execution_count": 64,
   "metadata": {},
   "outputs": [],
   "source": [
    "from sklearn.linear_model import LogisticRegression\n",
    "from sklearn.discriminant_analysis import LinearDiscriminantAnalysis\n",
    "from sklearn.svm import LinearSVC\n",
    "from sklearn.naive_bayes import MultinomialNB"
   ]
  },
  {
   "cell_type": "code",
   "execution_count": 65,
   "metadata": {},
   "outputs": [],
   "source": [
    "from sklearn.metrics import accuracy_score\n",
    "from sklearn.metrics import f1_score\n",
    "from sklearn.metrics import average_precision_score\n",
    "from sklearn.metrics import recall_score"
   ]
  },
  {
   "cell_type": "code",
   "execution_count": 66,
   "metadata": {},
   "outputs": [
    {
     "name": "stdout",
     "output_type": "stream",
     "text": [
      "\n",
      "\n",
      "**displaying metrics for the mode OneVsRestClassifier(estimator=LogisticRegression(penalty='l1',\n",
      "                                                 solver='liblinear'))\n",
      "\n",
      "Accuracy score:  0.25966666666666666\n",
      "F1 score:  0.6150803461063041\n",
      "Average precision score:  0.41911588681022305\n",
      "Average recall score:  0.5183333333333333\n",
      "\n",
      "\n",
      "\n",
      "\n",
      "Accuracy score:  0.25966666666666666\n",
      "F1 score:  0.3494264130402505\n"
     ]
    },
    {
     "name": "stderr",
     "output_type": "stream",
     "text": [
      "C:\\Users\\Shivang Shrivastav\\AppData\\Roaming\\Python\\Python37\\site-packages\\sklearn\\metrics\\_classification.py:1465: UndefinedMetricWarning: F-score is ill-defined and being set to 0.0 in labels with no true nor predicted samples. Use `zero_division` parameter to control this behavior.\n",
      "  average, \"true nor predicted\", 'F-score is', len(true_sum)\n",
      "C:\\Users\\Shivang Shrivastav\\AppData\\Roaming\\Python\\Python37\\site-packages\\sklearn\\metrics\\_ranking.py:681: RuntimeWarning: invalid value encountered in true_divide\n",
      "  recall = tps / tps[-1]\n"
     ]
    },
    {
     "name": "stdout",
     "output_type": "stream",
     "text": [
      "Average precision score:  nan\n",
      "Average recall score:  0.26844088074577427\n",
      "\n",
      "\n",
      "\n",
      "\n",
      "Accuracy score:  0.25966666666666666\n",
      "F1 score:  0.5911279306144901\n"
     ]
    },
    {
     "name": "stderr",
     "output_type": "stream",
     "text": [
      "C:\\Users\\Shivang Shrivastav\\AppData\\Roaming\\Python\\Python37\\site-packages\\sklearn\\metrics\\_classification.py:1221: UndefinedMetricWarning: Recall is ill-defined and being set to 0.0 in labels with no true samples. Use `zero_division` parameter to control this behavior.\n",
      "  _warn_prf(average, modifier, msg_start, len(result))\n",
      "C:\\Users\\Shivang Shrivastav\\AppData\\Roaming\\Python\\Python37\\site-packages\\sklearn\\metrics\\_classification.py:1465: UndefinedMetricWarning: F-score is ill-defined and being set to 0.0 in labels with no true nor predicted samples. Use `zero_division` parameter to control this behavior.\n",
      "  average, \"true nor predicted\", 'F-score is', len(true_sum)\n",
      "C:\\Users\\Shivang Shrivastav\\AppData\\Roaming\\Python\\Python37\\site-packages\\sklearn\\metrics\\_ranking.py:681: RuntimeWarning: invalid value encountered in true_divide\n",
      "  recall = tps / tps[-1]\n"
     ]
    },
    {
     "name": "stdout",
     "output_type": "stream",
     "text": [
      "Average precision score:  0.4762317764922889\n",
      "Average recall score:  0.5183333333333333\n",
      "\n",
      "\n",
      "\n",
      "\n"
     ]
    },
    {
     "name": "stderr",
     "output_type": "stream",
     "text": [
      "C:\\Users\\Shivang Shrivastav\\AppData\\Roaming\\Python\\Python37\\site-packages\\sklearn\\metrics\\_classification.py:1221: UndefinedMetricWarning: Recall is ill-defined and being set to 0.0 in labels with no true samples. Use `zero_division` parameter to control this behavior.\n",
      "  _warn_prf(average, modifier, msg_start, len(result))\n",
      "C:\\Users\\Shivang Shrivastav\\AppData\\Roaming\\Python\\Python37\\site-packages\\sklearn\\svm\\_base.py:975: ConvergenceWarning: Liblinear failed to converge, increase the number of iterations.\n",
      "  \"the number of iterations.\", ConvergenceWarning)\n",
      "C:\\Users\\Shivang Shrivastav\\AppData\\Roaming\\Python\\Python37\\site-packages\\sklearn\\svm\\_base.py:975: ConvergenceWarning: Liblinear failed to converge, increase the number of iterations.\n",
      "  \"the number of iterations.\", ConvergenceWarning)\n"
     ]
    },
    {
     "name": "stdout",
     "output_type": "stream",
     "text": [
      "\n",
      "\n",
      "**displaying metrics for the mode OneVsRestClassifier(estimator=LinearSVC(dual=False, penalty='l1'))\n",
      "\n",
      "Accuracy score:  0.24266666666666667\n",
      "F1 score:  0.61328125\n",
      "Average precision score:  0.410115823220014\n",
      "Average recall score:  0.5364166666666667\n",
      "\n",
      "\n",
      "\n",
      "\n",
      "Accuracy score:  0.24266666666666667\n",
      "F1 score:  0.3869051280279062\n"
     ]
    },
    {
     "name": "stderr",
     "output_type": "stream",
     "text": [
      "C:\\Users\\Shivang Shrivastav\\AppData\\Roaming\\Python\\Python37\\site-packages\\sklearn\\metrics\\_classification.py:1465: UndefinedMetricWarning: F-score is ill-defined and being set to 0.0 in labels with no true nor predicted samples. Use `zero_division` parameter to control this behavior.\n",
      "  average, \"true nor predicted\", 'F-score is', len(true_sum)\n",
      "C:\\Users\\Shivang Shrivastav\\AppData\\Roaming\\Python\\Python37\\site-packages\\sklearn\\metrics\\_ranking.py:681: RuntimeWarning: invalid value encountered in true_divide\n",
      "  recall = tps / tps[-1]\n"
     ]
    },
    {
     "name": "stdout",
     "output_type": "stream",
     "text": [
      "Average precision score:  nan\n",
      "Average recall score:  0.3072517483465692\n",
      "\n",
      "\n",
      "\n",
      "\n",
      "Accuracy score:  0.24266666666666667\n",
      "F1 score:  0.5952610259515645\n"
     ]
    },
    {
     "name": "stderr",
     "output_type": "stream",
     "text": [
      "C:\\Users\\Shivang Shrivastav\\AppData\\Roaming\\Python\\Python37\\site-packages\\sklearn\\metrics\\_classification.py:1221: UndefinedMetricWarning: Recall is ill-defined and being set to 0.0 in labels with no true samples. Use `zero_division` parameter to control this behavior.\n",
      "  _warn_prf(average, modifier, msg_start, len(result))\n",
      "C:\\Users\\Shivang Shrivastav\\AppData\\Roaming\\Python\\Python37\\site-packages\\sklearn\\metrics\\_classification.py:1465: UndefinedMetricWarning: F-score is ill-defined and being set to 0.0 in labels with no true nor predicted samples. Use `zero_division` parameter to control this behavior.\n",
      "  average, \"true nor predicted\", 'F-score is', len(true_sum)\n",
      "C:\\Users\\Shivang Shrivastav\\AppData\\Roaming\\Python\\Python37\\site-packages\\sklearn\\metrics\\_ranking.py:681: RuntimeWarning: invalid value encountered in true_divide\n",
      "  recall = tps / tps[-1]\n",
      "C:\\Users\\Shivang Shrivastav\\AppData\\Roaming\\Python\\Python37\\site-packages\\sklearn\\metrics\\_classification.py:1221: UndefinedMetricWarning: Recall is ill-defined and being set to 0.0 in labels with no true samples. Use `zero_division` parameter to control this behavior.\n",
      "  _warn_prf(average, modifier, msg_start, len(result))\n"
     ]
    },
    {
     "name": "stdout",
     "output_type": "stream",
     "text": [
      "Average precision score:  0.4695396525447029\n",
      "Average recall score:  0.5364166666666667\n",
      "\n",
      "\n",
      "\n",
      "\n",
      "\n",
      "\n",
      "**displaying metrics for the mode OneVsRestClassifier(estimator=MultinomialNB())\n",
      "\n",
      "Accuracy score:  0.082\n",
      "F1 score:  0.44578246699442087\n",
      "Average precision score:  0.25970613909575757\n",
      "Average recall score:  0.33625\n",
      "\n",
      "\n",
      "\n",
      "\n",
      "Accuracy score:  0.082\n",
      "F1 score:  0.09100237658956262\n"
     ]
    },
    {
     "name": "stderr",
     "output_type": "stream",
     "text": [
      "C:\\Users\\Shivang Shrivastav\\AppData\\Roaming\\Python\\Python37\\site-packages\\sklearn\\metrics\\_ranking.py:681: RuntimeWarning: invalid value encountered in true_divide\n",
      "  recall = tps / tps[-1]\n",
      "C:\\Users\\Shivang Shrivastav\\AppData\\Roaming\\Python\\Python37\\site-packages\\sklearn\\metrics\\_classification.py:1221: UndefinedMetricWarning: Recall is ill-defined and being set to 0.0 in labels with no true samples. Use `zero_division` parameter to control this behavior.\n",
      "  _warn_prf(average, modifier, msg_start, len(result))\n"
     ]
    },
    {
     "name": "stdout",
     "output_type": "stream",
     "text": [
      "Average precision score:  nan\n",
      "Average recall score:  0.06956313606420159\n",
      "\n",
      "\n",
      "\n",
      "\n",
      "Accuracy score:  0.082\n",
      "F1 score:  0.3843547719055087\n",
      "Average precision score: "
     ]
    },
    {
     "name": "stderr",
     "output_type": "stream",
     "text": [
      "C:\\Users\\Shivang Shrivastav\\AppData\\Roaming\\Python\\Python37\\site-packages\\sklearn\\metrics\\_ranking.py:681: RuntimeWarning: invalid value encountered in true_divide\n",
      "  recall = tps / tps[-1]\n",
      "C:\\Users\\Shivang Shrivastav\\AppData\\Roaming\\Python\\Python37\\site-packages\\sklearn\\metrics\\_classification.py:1221: UndefinedMetricWarning: Recall is ill-defined and being set to 0.0 in labels with no true samples. Use `zero_division` parameter to control this behavior.\n",
      "  _warn_prf(average, modifier, msg_start, len(result))\n"
     ]
    },
    {
     "name": "stdout",
     "output_type": "stream",
     "text": [
      " 0.3509235503607184\n",
      "Average recall score:  0.33625\n",
      "\n",
      "\n",
      "\n",
      "\n"
     ]
    }
   ],
   "source": [
    "def build_model_train(Xtrain, Ytrain, X_valid=None, y_valid=None, C=1.0, model='lr'):\n",
    "    if model=='lr':\n",
    "        model = LogisticRegression(C=C, penalty='l1', dual=False, solver='liblinear')\n",
    "        model = OneVsRestClassifier(model)\n",
    "        model.fit(Xtrain, Ytrain)\n",
    "\n",
    "    elif model=='svm':\n",
    "        model = LinearSVC(C=C, penalty='l1', dual=False, loss='squared_hinge')\n",
    "        model = OneVsRestClassifier(model)\n",
    "        model.fit(Xtrain, Ytrain)\n",
    "\n",
    "    elif model=='nbayes':\n",
    "        model = MultinomialNB(alpha=1.0)\n",
    "        model = OneVsRestClassifier(model)\n",
    "        model.fit(Xtrain, Ytrain)\n",
    "\n",
    "    elif model=='lda':\n",
    "        model = LinearDiscriminantAnalysis(solver='svd')\n",
    "        model = OneVsRestClassifier(model)\n",
    "        model.fit(Xtrain, Ytrain)\n",
    "\n",
    "    return model\n",
    "\n",
    "models = ['lr','svm','nbayes']\n",
    "for model in models:\n",
    "    model = build_model_train(Xtrain,Ytrain,model=model)\n",
    "    model.fit(Xtrain,Ytrain)\n",
    "    Ypred=model.predict(Xtest)\n",
    "    print(\"\\n\")\n",
    "    print(f\"**displaying metrics for the mode {model}\\n\")\n",
    "    print_evaluation_scores_micro(Ytest, Ypred)\n",
    "    print(\"\\n\")\n",
    "    print(\"\\n\")\n",
    "    print_evaluation_scores_macro(Ytest, Ypred)\n",
    "    print(\"\\n\")\n",
    "    print(\"\\n\")\n",
    "    print_evaluation_scores_weighted(Ytest,Ypred)\n",
    "    print(\"\\n\")\n",
    "    print(\"\\n\")"
   ]
  },
  {
   "cell_type": "markdown",
   "metadata": {},
   "source": [
    "# Key Summary\n",
    "Multilabel classication problem that predicts multiple features of the author of a\n",
    "given text was solved. \n",
    "Loading the data and required basic EDA and data inspection has been done \n",
    "The text has been pre processed by cleansing it (removing the unnecessary chars, removing the spaces,\n",
    "converting the case to lower) and also removing the stop words, vectorizing \n",
    "The features Preparing the date, splitting them to train and test using multilable binarizers, also various classier models\n",
    "are trained and the predictions are made and also the accuracy, f1 score, Avg precision and recall\n",
    "scores are calculated"
   ]
  },
  {
   "cell_type": "code",
   "execution_count": null,
   "metadata": {},
   "outputs": [],
   "source": []
  }
 ],
 "metadata": {
  "kernelspec": {
   "display_name": "Python 3",
   "language": "python",
   "name": "python3"
  },
  "language_info": {
   "codemirror_mode": {
    "name": "ipython",
    "version": 3
   },
   "file_extension": ".py",
   "mimetype": "text/x-python",
   "name": "python",
   "nbconvert_exporter": "python",
   "pygments_lexer": "ipython3",
   "version": "3.7.7"
  }
 },
 "nbformat": 4,
 "nbformat_minor": 4
}
